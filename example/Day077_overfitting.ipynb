{
 "cells": [
  {
   "cell_type": "markdown",
   "metadata": {},
   "source": [
    "## 範例重點\n",
    "* 學會從 Keras 內建函式取得資料\n",
    "* 能夠建立簡易的深度學習模型\n",
    "* 觀察並了解 Overfit 現象"
   ]
  },
  {
   "cell_type": "code",
   "execution_count": 1,
   "metadata": {},
   "outputs": [
    {
     "name": "stderr",
     "output_type": "stream",
     "text": [
      "Using TensorFlow backend.\n"
     ]
    }
   ],
   "source": [
    "import os\n",
    "import keras\n",
    "\n",
    "# 本範例不需使用 GPU, 將 GPU 設定為 \"無\"\n",
    "os.environ[\"CUDA_VISIBLE_DEVICES\"] = \"\""
   ]
  },
  {
   "cell_type": "code",
   "execution_count": 2,
   "metadata": {},
   "outputs": [],
   "source": [
    "# 從 Keras 的內建功能中，取得 train 與 test 資料集\n",
    "train, test = keras.datasets.cifar10.load_data()"
   ]
  },
  {
   "cell_type": "code",
   "execution_count": 3,
   "metadata": {},
   "outputs": [],
   "source": [
    "# 將 X 與 Y 獨立放進變數\n",
    "x_train, y_train = train\n",
    "x_test, y_test = test\n",
    "# 資料前處理 - 標準化\n",
    "x_train = x_train / 255.\n",
    "x_test = x_test / 255.\n",
    "\n",
    "# 將資料從圖形 (RGB) 轉為向量 (Single Vector)\n",
    "x_train = x_train.reshape((len(x_train), -1))\n",
    "x_test = x_test.reshape((len(x_test), -1))\n",
    "\n",
    "# 將目標轉為 one-hot encoding\n",
    "y_train = keras.utils.to_categorical(y_train, num_classes=10)\n",
    "y_test = keras.utils.to_categorical(y_test, num_classes=10)"
   ]
  },
  {
   "cell_type": "code",
   "execution_count": 4,
   "metadata": {},
   "outputs": [],
   "source": [
    "# 建立一個有三層隱藏層之神經網路\n",
    "def build_mlp():\n",
    "    input_layer = keras.layers.Input([x_train.shape[-1]])\n",
    "    x = keras.layers.Dense(units=512, activation=\"relu\")(input_layer)\n",
    "    x = keras.layers.Dense(units=256, activation=\"relu\")(x)\n",
    "    x = keras.layers.Dense(units=128, activation=\"relu\")(x)\n",
    "    out = keras.layers.Dense(units=10, activation=\"softmax\")(x)\n",
    "    \n",
    "    model = keras.models.Model(inputs=[input_layer], outputs=[out])\n",
    "    return model"
   ]
  },
  {
   "cell_type": "code",
   "execution_count": 5,
   "metadata": {},
   "outputs": [
    {
     "name": "stdout",
     "output_type": "stream",
     "text": [
      "WARNING:tensorflow:From C:\\Users\\User\\Anaconda3\\envs\\tensorflow\\lib\\site-packages\\tensorflow\\python\\framework\\op_def_library.py:263: colocate_with (from tensorflow.python.framework.ops) is deprecated and will be removed in a future version.\n",
      "Instructions for updating:\n",
      "Colocations handled automatically by placer.\n",
      "_________________________________________________________________\n",
      "Layer (type)                 Output Shape              Param #   \n",
      "=================================================================\n",
      "input_1 (InputLayer)         (None, 3072)              0         \n",
      "_________________________________________________________________\n",
      "dense_1 (Dense)              (None, 512)               1573376   \n",
      "_________________________________________________________________\n",
      "dense_2 (Dense)              (None, 256)               131328    \n",
      "_________________________________________________________________\n",
      "dense_3 (Dense)              (None, 128)               32896     \n",
      "_________________________________________________________________\n",
      "dense_4 (Dense)              (None, 10)                1290      \n",
      "=================================================================\n",
      "Total params: 1,738,890\n",
      "Trainable params: 1,738,890\n",
      "Non-trainable params: 0\n",
      "_________________________________________________________________\n"
     ]
    }
   ],
   "source": [
    "model = build_mlp()\n",
    "# 用 Keras 內建方法檢視模型各層參數量\n",
    "model.summary()\n",
    "\n",
    "optimizer = keras.optimizers.Adam(lr=0.001)\n",
    "model.compile(loss=\"categorical_crossentropy\", metrics=[\"accuracy\"], optimizer=optimizer)"
   ]
  },
  {
   "cell_type": "code",
   "execution_count": 6,
   "metadata": {},
   "outputs": [
    {
     "name": "stdout",
     "output_type": "stream",
     "text": [
      "WARNING:tensorflow:From C:\\Users\\User\\Anaconda3\\envs\\tensorflow\\lib\\site-packages\\tensorflow\\python\\ops\\math_ops.py:3066: to_int32 (from tensorflow.python.ops.math_ops) is deprecated and will be removed in a future version.\n",
      "Instructions for updating:\n",
      "Use tf.cast instead.\n",
      "Train on 50000 samples, validate on 10000 samples\n",
      "Epoch 1/100\n",
      "50000/50000 [==============================] - 4s 79us/step - loss: 1.9526 - acc: 0.2980 - val_loss: 1.7957 - val_acc: 0.3585\n",
      "Epoch 2/100\n",
      "50000/50000 [==============================] - 2s 43us/step - loss: 1.7139 - acc: 0.3870 - val_loss: 1.7095 - val_acc: 0.3860\n",
      "Epoch 3/100\n",
      "50000/50000 [==============================] - 2s 43us/step - loss: 1.6220 - acc: 0.4197 - val_loss: 1.5886 - val_acc: 0.4286\n",
      "Epoch 4/100\n",
      "50000/50000 [==============================] - 2s 42us/step - loss: 1.5526 - acc: 0.4455 - val_loss: 1.5394 - val_acc: 0.4492\n",
      "Epoch 5/100\n",
      "50000/50000 [==============================] - 2s 42us/step - loss: 1.5066 - acc: 0.4632 - val_loss: 1.5177 - val_acc: 0.4511\n",
      "Epoch 6/100\n",
      "50000/50000 [==============================] - 2s 44us/step - loss: 1.4828 - acc: 0.4725 - val_loss: 1.4645 - val_acc: 0.4804\n",
      "Epoch 7/100\n",
      "50000/50000 [==============================] - 2s 44us/step - loss: 1.4343 - acc: 0.4893 - val_loss: 1.4422 - val_acc: 0.4887\n",
      "Epoch 8/100\n",
      "50000/50000 [==============================] - 2s 44us/step - loss: 1.3980 - acc: 0.5034 - val_loss: 1.4339 - val_acc: 0.4894\n",
      "Epoch 9/100\n",
      "50000/50000 [==============================] - 2s 41us/step - loss: 1.3790 - acc: 0.5082 - val_loss: 1.4351 - val_acc: 0.4836\n",
      "Epoch 10/100\n",
      "50000/50000 [==============================] - 2s 41us/step - loss: 1.3503 - acc: 0.5191 - val_loss: 1.4483 - val_acc: 0.4820\n",
      "Epoch 11/100\n",
      "50000/50000 [==============================] - 2s 41us/step - loss: 1.3226 - acc: 0.5303 - val_loss: 1.4057 - val_acc: 0.5004\n",
      "Epoch 12/100\n",
      "50000/50000 [==============================] - 2s 42us/step - loss: 1.2970 - acc: 0.5404 - val_loss: 1.4065 - val_acc: 0.4974\n",
      "Epoch 13/100\n",
      "50000/50000 [==============================] - 2s 43us/step - loss: 1.2722 - acc: 0.5484 - val_loss: 1.4012 - val_acc: 0.5056\n",
      "Epoch 14/100\n",
      "50000/50000 [==============================] - 2s 42us/step - loss: 1.2549 - acc: 0.5546 - val_loss: 1.3829 - val_acc: 0.5154\n",
      "Epoch 15/100\n",
      "50000/50000 [==============================] - 2s 41us/step - loss: 1.2292 - acc: 0.5636 - val_loss: 1.4352 - val_acc: 0.4925\n",
      "Epoch 16/100\n",
      "50000/50000 [==============================] - 2s 41us/step - loss: 1.2051 - acc: 0.5738 - val_loss: 1.4109 - val_acc: 0.4995\n",
      "Epoch 17/100\n",
      "50000/50000 [==============================] - 2s 42us/step - loss: 1.1877 - acc: 0.5796 - val_loss: 1.4699 - val_acc: 0.4919\n",
      "Epoch 18/100\n",
      "50000/50000 [==============================] - 2s 41us/step - loss: 1.1715 - acc: 0.5843 - val_loss: 1.3932 - val_acc: 0.5085\n",
      "Epoch 19/100\n",
      "50000/50000 [==============================] - 2s 41us/step - loss: 1.1442 - acc: 0.5919 - val_loss: 1.3564 - val_acc: 0.5271\n",
      "Epoch 20/100\n",
      "50000/50000 [==============================] - 2s 41us/step - loss: 1.1227 - acc: 0.6033 - val_loss: 1.3567 - val_acc: 0.5240\n",
      "Epoch 21/100\n",
      "50000/50000 [==============================] - 2s 42us/step - loss: 1.1098 - acc: 0.6060 - val_loss: 1.3872 - val_acc: 0.5167\n",
      "Epoch 22/100\n",
      "50000/50000 [==============================] - 2s 43us/step - loss: 1.0901 - acc: 0.6127 - val_loss: 1.3850 - val_acc: 0.5180\n",
      "Epoch 23/100\n",
      "50000/50000 [==============================] - 2s 41us/step - loss: 1.0623 - acc: 0.6249 - val_loss: 1.3583 - val_acc: 0.5322\n",
      "Epoch 24/100\n",
      "50000/50000 [==============================] - 2s 40us/step - loss: 1.0429 - acc: 0.6297 - val_loss: 1.3776 - val_acc: 0.5270\n",
      "Epoch 25/100\n",
      "50000/50000 [==============================] - 2s 41us/step - loss: 1.0323 - acc: 0.6319 - val_loss: 1.3936 - val_acc: 0.5239\n",
      "Epoch 26/100\n",
      "50000/50000 [==============================] - 2s 42us/step - loss: 1.0076 - acc: 0.6396 - val_loss: 1.4160 - val_acc: 0.5238\n",
      "Epoch 27/100\n",
      "50000/50000 [==============================] - 2s 41us/step - loss: 0.9943 - acc: 0.6483 - val_loss: 1.4830 - val_acc: 0.5097\n",
      "Epoch 28/100\n",
      "50000/50000 [==============================] - 2s 41us/step - loss: 0.9775 - acc: 0.6520 - val_loss: 1.4613 - val_acc: 0.5144\n",
      "Epoch 29/100\n",
      "50000/50000 [==============================] - 2s 41us/step - loss: 0.9472 - acc: 0.6637 - val_loss: 1.4256 - val_acc: 0.5249\n",
      "Epoch 30/100\n",
      "50000/50000 [==============================] - 2s 41us/step - loss: 0.9481 - acc: 0.6627 - val_loss: 1.4387 - val_acc: 0.5197\n",
      "Epoch 31/100\n",
      "50000/50000 [==============================] - 2s 42us/step - loss: 0.9128 - acc: 0.6741 - val_loss: 1.4689 - val_acc: 0.5225\n",
      "Epoch 32/100\n",
      "50000/50000 [==============================] - 2s 42us/step - loss: 0.9019 - acc: 0.6788 - val_loss: 1.4803 - val_acc: 0.5192\n",
      "Epoch 33/100\n",
      "50000/50000 [==============================] - 2s 41us/step - loss: 0.8855 - acc: 0.6860 - val_loss: 1.4615 - val_acc: 0.5247\n",
      "Epoch 34/100\n",
      "50000/50000 [==============================] - 2s 41us/step - loss: 0.8631 - acc: 0.6897 - val_loss: 1.5027 - val_acc: 0.5251\n",
      "Epoch 35/100\n",
      "50000/50000 [==============================] - 2s 41us/step - loss: 0.8564 - acc: 0.6950 - val_loss: 1.5267 - val_acc: 0.5116\n",
      "Epoch 36/100\n",
      "50000/50000 [==============================] - 2s 41us/step - loss: 0.8374 - acc: 0.7018 - val_loss: 1.5343 - val_acc: 0.5256\n",
      "Epoch 37/100\n",
      "50000/50000 [==============================] - 2s 40us/step - loss: 0.8226 - acc: 0.7073 - val_loss: 1.5711 - val_acc: 0.5235\n",
      "Epoch 38/100\n",
      "50000/50000 [==============================] - 2s 41us/step - loss: 0.7951 - acc: 0.7170 - val_loss: 1.5660 - val_acc: 0.5166\n",
      "Epoch 39/100\n",
      "50000/50000 [==============================] - 2s 40us/step - loss: 0.7849 - acc: 0.7209 - val_loss: 1.5759 - val_acc: 0.5225\n",
      "Epoch 40/100\n",
      "50000/50000 [==============================] - 2s 41us/step - loss: 0.7747 - acc: 0.7245 - val_loss: 1.5811 - val_acc: 0.5257\n",
      "Epoch 41/100\n",
      "50000/50000 [==============================] - 2s 41us/step - loss: 0.7506 - acc: 0.7335 - val_loss: 1.6194 - val_acc: 0.5122\n",
      "Epoch 42/100\n",
      "50000/50000 [==============================] - 2s 41us/step - loss: 0.7557 - acc: 0.7296 - val_loss: 1.6646 - val_acc: 0.5180\n",
      "Epoch 43/100\n",
      "50000/50000 [==============================] - 2s 41us/step - loss: 0.7320 - acc: 0.7378 - val_loss: 1.6632 - val_acc: 0.5150\n",
      "Epoch 44/100\n",
      "50000/50000 [==============================] - 2s 41us/step - loss: 0.7250 - acc: 0.7406 - val_loss: 1.6668 - val_acc: 0.5176\n",
      "Epoch 45/100\n",
      "50000/50000 [==============================] - 2s 41us/step - loss: 0.6929 - acc: 0.7532 - val_loss: 1.6991 - val_acc: 0.5095\n",
      "Epoch 46/100\n",
      "50000/50000 [==============================] - 2s 41us/step - loss: 0.6765 - acc: 0.7587 - val_loss: 1.7204 - val_acc: 0.5179\n",
      "Epoch 47/100\n",
      "50000/50000 [==============================] - 2s 41us/step - loss: 0.6629 - acc: 0.7655 - val_loss: 1.7514 - val_acc: 0.5123\n",
      "Epoch 48/100\n",
      "50000/50000 [==============================] - 2s 41us/step - loss: 0.6591 - acc: 0.7625 - val_loss: 1.7773 - val_acc: 0.5116\n",
      "Epoch 49/100\n",
      "50000/50000 [==============================] - 2s 40us/step - loss: 0.6498 - acc: 0.7677 - val_loss: 1.8171 - val_acc: 0.5133\n",
      "Epoch 50/100\n",
      "50000/50000 [==============================] - 2s 41us/step - loss: 0.6233 - acc: 0.7801 - val_loss: 1.8791 - val_acc: 0.5085\n",
      "Epoch 51/100\n",
      "50000/50000 [==============================] - 2s 41us/step - loss: 0.6272 - acc: 0.7772 - val_loss: 1.8150 - val_acc: 0.5198\n",
      "Epoch 52/100\n",
      "50000/50000 [==============================] - 2s 40us/step - loss: 0.6099 - acc: 0.7818 - val_loss: 1.8473 - val_acc: 0.5177\n",
      "Epoch 53/100\n",
      "50000/50000 [==============================] - 2s 40us/step - loss: 0.5953 - acc: 0.7856 - val_loss: 1.8662 - val_acc: 0.5198\n",
      "Epoch 54/100\n",
      "50000/50000 [==============================] - 2s 40us/step - loss: 0.5862 - acc: 0.7910 - val_loss: 1.9618 - val_acc: 0.5062\n",
      "Epoch 55/100\n",
      "50000/50000 [==============================] - 2s 42us/step - loss: 0.5752 - acc: 0.7962 - val_loss: 1.9032 - val_acc: 0.5170\n",
      "Epoch 56/100\n",
      "50000/50000 [==============================] - 2s 42us/step - loss: 0.5661 - acc: 0.7966 - val_loss: 1.9637 - val_acc: 0.5072\n",
      "Epoch 57/100\n"
     ]
    },
    {
     "name": "stdout",
     "output_type": "stream",
     "text": [
      "50000/50000 [==============================] - 2s 42us/step - loss: 0.5635 - acc: 0.7993 - val_loss: 2.0144 - val_acc: 0.5130\n",
      "Epoch 58/100\n",
      "50000/50000 [==============================] - 2s 42us/step - loss: 0.5470 - acc: 0.8047 - val_loss: 2.0873 - val_acc: 0.5027\n",
      "Epoch 59/100\n",
      "50000/50000 [==============================] - 2s 42us/step - loss: 0.5312 - acc: 0.8114 - val_loss: 2.0746 - val_acc: 0.5058\n",
      "Epoch 60/100\n",
      "50000/50000 [==============================] - 2s 42us/step - loss: 0.5096 - acc: 0.8178 - val_loss: 2.1204 - val_acc: 0.5067\n",
      "Epoch 61/100\n",
      "50000/50000 [==============================] - 2s 43us/step - loss: 0.5342 - acc: 0.8093 - val_loss: 2.0620 - val_acc: 0.5135\n",
      "Epoch 62/100\n",
      "50000/50000 [==============================] - 2s 42us/step - loss: 0.5084 - acc: 0.8198 - val_loss: 2.1757 - val_acc: 0.5010\n",
      "Epoch 63/100\n",
      "50000/50000 [==============================] - 2s 42us/step - loss: 0.4930 - acc: 0.8228 - val_loss: 2.1748 - val_acc: 0.5059\n",
      "Epoch 64/100\n",
      "50000/50000 [==============================] - 2s 42us/step - loss: 0.4825 - acc: 0.8271 - val_loss: 2.1898 - val_acc: 0.5073\n",
      "Epoch 65/100\n",
      "50000/50000 [==============================] - 2s 42us/step - loss: 0.4739 - acc: 0.8311 - val_loss: 2.2288 - val_acc: 0.5015\n",
      "Epoch 66/100\n",
      "50000/50000 [==============================] - 2s 43us/step - loss: 0.4919 - acc: 0.8222 - val_loss: 2.3189 - val_acc: 0.5017\n",
      "Epoch 67/100\n",
      "50000/50000 [==============================] - 2s 42us/step - loss: 0.4719 - acc: 0.8290 - val_loss: 2.2457 - val_acc: 0.5102\n",
      "Epoch 68/100\n",
      "50000/50000 [==============================] - 2s 42us/step - loss: 0.4559 - acc: 0.8373 - val_loss: 2.3132 - val_acc: 0.5062\n",
      "Epoch 69/100\n",
      "50000/50000 [==============================] - 2s 40us/step - loss: 0.4537 - acc: 0.8382 - val_loss: 2.3456 - val_acc: 0.4997\n",
      "Epoch 70/100\n",
      "50000/50000 [==============================] - 2s 40us/step - loss: 0.4441 - acc: 0.8382 - val_loss: 2.3524 - val_acc: 0.5069\n",
      "Epoch 71/100\n",
      "50000/50000 [==============================] - 2s 41us/step - loss: 0.4228 - acc: 0.8479 - val_loss: 2.3707 - val_acc: 0.5002\n",
      "Epoch 72/100\n",
      "50000/50000 [==============================] - 2s 41us/step - loss: 0.4396 - acc: 0.8405 - val_loss: 2.3723 - val_acc: 0.5034\n",
      "Epoch 73/100\n",
      "50000/50000 [==============================] - 2s 41us/step - loss: 0.4096 - acc: 0.8543 - val_loss: 2.4354 - val_acc: 0.4991\n",
      "Epoch 74/100\n",
      "50000/50000 [==============================] - 2s 40us/step - loss: 0.4247 - acc: 0.8476 - val_loss: 2.4444 - val_acc: 0.5033\n",
      "Epoch 75/100\n",
      "50000/50000 [==============================] - 2s 40us/step - loss: 0.3943 - acc: 0.8579 - val_loss: 2.5062 - val_acc: 0.5033\n",
      "Epoch 76/100\n",
      "50000/50000 [==============================] - 2s 40us/step - loss: 0.3957 - acc: 0.8553 - val_loss: 2.5069 - val_acc: 0.5011\n",
      "Epoch 77/100\n",
      "50000/50000 [==============================] - 2s 41us/step - loss: 0.3819 - acc: 0.8623 - val_loss: 2.5864 - val_acc: 0.4982\n",
      "Epoch 78/100\n",
      "50000/50000 [==============================] - 2s 41us/step - loss: 0.3876 - acc: 0.8596 - val_loss: 2.5837 - val_acc: 0.4990\n",
      "Epoch 79/100\n",
      "50000/50000 [==============================] - 2s 41us/step - loss: 0.3873 - acc: 0.8603 - val_loss: 2.6464 - val_acc: 0.5037\n",
      "Epoch 80/100\n",
      "50000/50000 [==============================] - 2s 41us/step - loss: 0.3572 - acc: 0.8731 - val_loss: 2.6533 - val_acc: 0.5004\n",
      "Epoch 81/100\n",
      "50000/50000 [==============================] - 2s 40us/step - loss: 0.3563 - acc: 0.8722 - val_loss: 2.6767 - val_acc: 0.4983\n",
      "Epoch 82/100\n",
      "50000/50000 [==============================] - 2s 41us/step - loss: 0.3671 - acc: 0.8680 - val_loss: 2.7499 - val_acc: 0.4981\n",
      "Epoch 83/100\n",
      "50000/50000 [==============================] - 2s 40us/step - loss: 0.3511 - acc: 0.8742 - val_loss: 2.7558 - val_acc: 0.4978\n",
      "Epoch 84/100\n",
      "50000/50000 [==============================] - 2s 41us/step - loss: 0.3405 - acc: 0.8784 - val_loss: 2.7840 - val_acc: 0.5010\n",
      "Epoch 85/100\n",
      "50000/50000 [==============================] - 2s 42us/step - loss: 0.3617 - acc: 0.8688 - val_loss: 2.8101 - val_acc: 0.4930\n",
      "Epoch 86/100\n",
      "50000/50000 [==============================] - 2s 42us/step - loss: 0.3667 - acc: 0.8671 - val_loss: 2.8467 - val_acc: 0.4923\n",
      "Epoch 87/100\n",
      "50000/50000 [==============================] - 2s 42us/step - loss: 0.3407 - acc: 0.8760 - val_loss: 2.8077 - val_acc: 0.4986\n",
      "Epoch 88/100\n",
      "50000/50000 [==============================] - 2s 42us/step - loss: 0.3274 - acc: 0.8815 - val_loss: 2.8492 - val_acc: 0.4956\n",
      "Epoch 89/100\n",
      "50000/50000 [==============================] - 2s 41us/step - loss: 0.3282 - acc: 0.8818 - val_loss: 2.9024 - val_acc: 0.4880\n",
      "Epoch 90/100\n",
      "50000/50000 [==============================] - 2s 41us/step - loss: 0.3180 - acc: 0.8857 - val_loss: 2.8956 - val_acc: 0.5000\n",
      "Epoch 91/100\n",
      "50000/50000 [==============================] - 2s 42us/step - loss: 0.3047 - acc: 0.8901 - val_loss: 3.0353 - val_acc: 0.5035\n",
      "Epoch 92/100\n",
      "50000/50000 [==============================] - 2s 42us/step - loss: 0.3258 - acc: 0.8821 - val_loss: 3.0352 - val_acc: 0.4903\n",
      "Epoch 93/100\n",
      "50000/50000 [==============================] - 2s 41us/step - loss: 0.3249 - acc: 0.8820 - val_loss: 2.9224 - val_acc: 0.5049\n",
      "Epoch 94/100\n",
      "50000/50000 [==============================] - 2s 41us/step - loss: 0.3012 - acc: 0.8917 - val_loss: 3.0461 - val_acc: 0.4959\n",
      "Epoch 95/100\n",
      "50000/50000 [==============================] - 2s 42us/step - loss: 0.3104 - acc: 0.8888 - val_loss: 3.1019 - val_acc: 0.4950\n",
      "Epoch 96/100\n",
      "50000/50000 [==============================] - 2s 43us/step - loss: 0.2808 - acc: 0.8991 - val_loss: 3.0670 - val_acc: 0.5023\n",
      "Epoch 97/100\n",
      "50000/50000 [==============================] - 2s 43us/step - loss: 0.2930 - acc: 0.8939 - val_loss: 3.0716 - val_acc: 0.4971\n",
      "Epoch 98/100\n",
      "50000/50000 [==============================] - 2s 42us/step - loss: 0.2927 - acc: 0.8946 - val_loss: 3.0668 - val_acc: 0.4944\n",
      "Epoch 99/100\n",
      "50000/50000 [==============================] - 2s 41us/step - loss: 0.2922 - acc: 0.8938 - val_loss: 3.1147 - val_acc: 0.4901\n",
      "Epoch 100/100\n",
      "50000/50000 [==============================] - 2s 43us/step - loss: 0.2759 - acc: 0.9001 - val_loss: 3.2219 - val_acc: 0.5003\n"
     ]
    },
    {
     "data": {
      "text/plain": [
       "<keras.callbacks.History at 0x1f0b1cfdda0>"
      ]
     },
     "execution_count": 6,
     "metadata": {},
     "output_type": "execute_result"
    }
   ],
   "source": [
    "# 訓練模型並檢視驗證集的結果\n",
    "model.fit(x_train, y_train, \n",
    "          epochs=100, \n",
    "          batch_size=256, \n",
    "          validation_data=(x_test, y_test), \n",
    "          shuffle=True)"
   ]
  },
  {
   "cell_type": "code",
   "execution_count": 8,
   "metadata": {},
   "outputs": [
    {
     "data": {
      "image/png": "[encoded data removed]",
      "text/plain": [
       "<Figure size 432x288 with 1 Axes>"
      ]
     },
     "metadata": {
      "needs_background": "light"
     },
     "output_type": "display_data"
    },
    {
     "data": {
      "image/png": "[encoded data removed]",
      "text/plain": [
       "<Figure size 432x288 with 1 Axes>"
      ]
     },
     "metadata": {
      "needs_background": "light"
     },
     "output_type": "display_data"
    }
   ],
   "source": [
    "# 以視覺畫方式檢視訓練過程\n",
    "import matplotlib.pyplot as plt\n",
    "train_loss = model.history.history[\"loss\"]\n",
    "valid_loss = model.history.history[\"val_loss\"]\n",
    "\n",
    "train_acc = model.history.history[\"acc\"]\n",
    "valid_acc = model.history.history[\"val_acc\"]\n",
    "\n",
    "plt.plot(range(len(train_loss)), train_loss, label=\"train loss\")\n",
    "plt.plot(range(len(valid_loss)), valid_loss, label=\"valid loss\")\n",
    "plt.legend()\n",
    "plt.title(\"Loss\")\n",
    "plt.show()\n",
    "\n",
    "plt.plot(range(len(train_acc)), train_acc, label=\"train accuracy\")\n",
    "plt.plot(range(len(valid_acc)), valid_acc, label=\"valid accuracy\")\n",
    "plt.legend()\n",
    "plt.title(\"Accuracy\")\n",
    "plt.show()"
   ]
  },
  {
   "cell_type": "markdown",
   "metadata": {},
   "source": [
    "## 作業\n",
    "1. 請將 Epoch 加到 500 個，並觀察 learning curve 的走勢\n",
    "2. 請將 Optimizer 換成 SGD，並觀察 learning curve 的走勢"
   ]
  }
 ],
 "metadata": {
  "kernelspec": {
   "display_name": "Python 3",
   "language": "python",
   "name": "python3"
  },
  "language_info": {
   "codemirror_mode": {
    "name": "ipython",
    "version": 3
   },
   "file_extension": ".py",
   "mimetype": "text/x-python",
   "name": "python",
   "nbconvert_exporter": "python",
   "pygments_lexer": "ipython3",
   "version": "3.7.3"
  }
 },
 "nbformat": 4,
 "nbformat_minor": 2
}
