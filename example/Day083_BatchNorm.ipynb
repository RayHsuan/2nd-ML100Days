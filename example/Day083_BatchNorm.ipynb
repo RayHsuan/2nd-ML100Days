{
 "cells": [
  {
   "cell_type": "markdown",
   "metadata": {},
   "source": [
    "## 範例重點\n",
    "* 學習如何在 keras 中加入 BatchNorm\n",
    "* 知道有無 BN 對訓練的影響\n",
    "* 比較 BN 在不同 batch size 下的效果"
   ]
  },
  {
   "cell_type": "code",
   "execution_count": 1,
   "metadata": {},
   "outputs": [
    {
     "name": "stderr",
     "output_type": "stream",
     "text": [
      "Using TensorFlow backend.\n"
     ]
    }
   ],
   "source": [
    "import os\n",
    "import keras\n",
    "\n",
    "# 本範例不需使用 GPU, 將 GPU 設定為 \"無\"\n",
    "os.environ[\"CUDA_VISIBLE_DEVICES\"] = \"\""
   ]
  },
  {
   "cell_type": "code",
   "execution_count": 2,
   "metadata": {},
   "outputs": [],
   "source": [
    "train, test = keras.datasets.cifar10.load_data()"
   ]
  },
  {
   "cell_type": "code",
   "execution_count": 3,
   "metadata": {},
   "outputs": [],
   "source": [
    "## 資料前處理\n",
    "def preproc_x(x, flatten=True):\n",
    "    x = x / 255.\n",
    "    if flatten:\n",
    "        x = x.reshape((len(x), -1))\n",
    "    return x\n",
    "\n",
    "def preproc_y(y, num_classes=10):\n",
    "    if y.shape[-1] == 1:\n",
    "        y = keras.utils.to_categorical(y, num_classes)\n",
    "    return y    "
   ]
  },
  {
   "cell_type": "code",
   "execution_count": 4,
   "metadata": {},
   "outputs": [],
   "source": [
    "x_train, y_train = train\n",
    "x_test, y_test = test\n",
    "\n",
    "# 資料前處理 - X 標準化\n",
    "x_train = preproc_x(x_train)\n",
    "x_test = preproc_x(x_test)\n",
    "\n",
    "# 資料前處理 -Y 轉成 onehot\n",
    "y_train = preproc_y(y_train)\n",
    "y_test = preproc_y(y_test)"
   ]
  },
  {
   "cell_type": "code",
   "execution_count": 5,
   "metadata": {},
   "outputs": [],
   "source": [
    "from keras.layers import BatchNormalization\n",
    "\n",
    "\"\"\"\n",
    "建立神經網路，並加入 BN layer\n",
    "\"\"\"\n",
    "def build_mlp(input_shape, output_units=10, num_neurons=[512, 256, 128]):\n",
    "    input_layer = keras.layers.Input(input_shape)\n",
    "    \n",
    "    for i, n_units in enumerate(num_neurons):\n",
    "        if i == 0:\n",
    "            x = keras.layers.Dense(units=n_units, \n",
    "                                   activation=\"relu\", \n",
    "                                   name=\"hidden_layer\"+str(i+1))(input_layer)\n",
    "            x = BatchNormalization()(x)\n",
    "        else:\n",
    "            x = keras.layers.Dense(units=n_units, \n",
    "                                   activation=\"relu\", \n",
    "                                   name=\"hidden_layer\"+str(i+1))(x)\n",
    "            x = BatchNormalization()(x)\n",
    "    \n",
    "    out = keras.layers.Dense(units=output_units, activation=\"softmax\", name=\"output\")(x)\n",
    "    \n",
    "    model = keras.models.Model(inputs=[input_layer], outputs=[out])\n",
    "    return model"
   ]
  },
  {
   "cell_type": "code",
   "execution_count": 6,
   "metadata": {},
   "outputs": [],
   "source": [
    "## 超參數設定\n",
    "LEARNING_RATE = 1e-3\n",
    "EPOCHS = 50\n",
    "BATCH_SIZE = 1024\n",
    "MOMENTUM = 0.95"
   ]
  },
  {
   "cell_type": "code",
   "execution_count": 7,
   "metadata": {
    "scrolled": true
   },
   "outputs": [
    {
     "name": "stdout",
     "output_type": "stream",
     "text": [
      "WARNING:tensorflow:From C:\\Users\\User\\Anaconda3\\envs\\tensorflow\\lib\\site-packages\\tensorflow\\python\\framework\\op_def_library.py:263: colocate_with (from tensorflow.python.framework.ops) is deprecated and will be removed in a future version.\n",
      "Instructions for updating:\n",
      "Colocations handled automatically by placer.\n",
      "_________________________________________________________________\n",
      "Layer (type)                 Output Shape              Param #   \n",
      "=================================================================\n",
      "input_1 (InputLayer)         (None, 3072)              0         \n",
      "_________________________________________________________________\n",
      "hidden_layer1 (Dense)        (None, 512)               1573376   \n",
      "_________________________________________________________________\n",
      "batch_normalization_1 (Batch (None, 512)               2048      \n",
      "_________________________________________________________________\n",
      "hidden_layer2 (Dense)        (None, 256)               131328    \n",
      "_________________________________________________________________\n",
      "batch_normalization_2 (Batch (None, 256)               1024      \n",
      "_________________________________________________________________\n",
      "hidden_layer3 (Dense)        (None, 128)               32896     \n",
      "_________________________________________________________________\n",
      "batch_normalization_3 (Batch (None, 128)               512       \n",
      "_________________________________________________________________\n",
      "output (Dense)               (None, 10)                1290      \n",
      "=================================================================\n",
      "Total params: 1,742,474\n",
      "Trainable params: 1,740,682\n",
      "Non-trainable params: 1,792\n",
      "_________________________________________________________________\n",
      "WARNING:tensorflow:From C:\\Users\\User\\Anaconda3\\envs\\tensorflow\\lib\\site-packages\\tensorflow\\python\\ops\\math_ops.py:3066: to_int32 (from tensorflow.python.ops.math_ops) is deprecated and will be removed in a future version.\n",
      "Instructions for updating:\n",
      "Use tf.cast instead.\n",
      "Train on 50000 samples, validate on 10000 samples\n",
      "Epoch 1/50\n",
      "50000/50000 [==============================] - 7s 148us/step - loss: 2.1916 - acc: 0.2761 - val_loss: 2.0279 - val_acc: 0.3419\n",
      "Epoch 2/50\n",
      "50000/50000 [==============================] - 2s 32us/step - loss: 1.7413 - acc: 0.3951 - val_loss: 1.7937 - val_acc: 0.3837\n",
      "Epoch 3/50\n",
      "50000/50000 [==============================] - 2s 32us/step - loss: 1.6169 - acc: 0.4344 - val_loss: 1.6898 - val_acc: 0.4088\n",
      "Epoch 4/50\n",
      "50000/50000 [==============================] - 2s 32us/step - loss: 1.5450 - acc: 0.4611 - val_loss: 1.6467 - val_acc: 0.4188\n",
      "Epoch 5/50\n",
      "50000/50000 [==============================] - 2s 32us/step - loss: 1.4878 - acc: 0.4810 - val_loss: 1.6076 - val_acc: 0.4343\n",
      "Epoch 6/50\n",
      "50000/50000 [==============================] - 2s 32us/step - loss: 1.4419 - acc: 0.4975 - val_loss: 1.5778 - val_acc: 0.4452\n",
      "Epoch 7/50\n",
      "50000/50000 [==============================] - 2s 32us/step - loss: 1.4031 - acc: 0.5123 - val_loss: 1.5451 - val_acc: 0.4566\n",
      "Epoch 8/50\n",
      "50000/50000 [==============================] - 2s 32us/step - loss: 1.3683 - acc: 0.5236 - val_loss: 1.5378 - val_acc: 0.4594\n",
      "Epoch 9/50\n",
      "50000/50000 [==============================] - 2s 32us/step - loss: 1.3365 - acc: 0.5369 - val_loss: 1.5302 - val_acc: 0.4584\n",
      "Epoch 10/50\n",
      "50000/50000 [==============================] - 2s 32us/step - loss: 1.3071 - acc: 0.5478 - val_loss: 1.5068 - val_acc: 0.4698\n",
      "Epoch 11/50\n",
      "50000/50000 [==============================] - 2s 32us/step - loss: 1.2780 - acc: 0.5581 - val_loss: 1.5020 - val_acc: 0.4719\n",
      "Epoch 12/50\n",
      "50000/50000 [==============================] - 2s 32us/step - loss: 1.2525 - acc: 0.5674 - val_loss: 1.4932 - val_acc: 0.4749\n",
      "Epoch 13/50\n",
      "50000/50000 [==============================] - 2s 32us/step - loss: 1.2251 - acc: 0.5773 - val_loss: 1.4862 - val_acc: 0.4806\n",
      "Epoch 14/50\n",
      "50000/50000 [==============================] - 2s 32us/step - loss: 1.1993 - acc: 0.5860 - val_loss: 1.4848 - val_acc: 0.4799\n",
      "Epoch 15/50\n",
      "50000/50000 [==============================] - 2s 32us/step - loss: 1.1760 - acc: 0.5946 - val_loss: 1.4712 - val_acc: 0.4864\n",
      "Epoch 16/50\n",
      "50000/50000 [==============================] - 2s 32us/step - loss: 1.1517 - acc: 0.6060 - val_loss: 1.4756 - val_acc: 0.4812\n",
      "Epoch 17/50\n",
      "50000/50000 [==============================] - 2s 32us/step - loss: 1.1300 - acc: 0.6138 - val_loss: 1.4758 - val_acc: 0.4794\n",
      "Epoch 18/50\n",
      "50000/50000 [==============================] - 2s 32us/step - loss: 1.1077 - acc: 0.6223 - val_loss: 1.4792 - val_acc: 0.4862\n",
      "Epoch 19/50\n",
      "50000/50000 [==============================] - 2s 32us/step - loss: 1.0852 - acc: 0.6295 - val_loss: 1.4682 - val_acc: 0.4884\n",
      "Epoch 20/50\n",
      "50000/50000 [==============================] - 2s 32us/step - loss: 1.0625 - acc: 0.6372 - val_loss: 1.4717 - val_acc: 0.4901\n",
      "Epoch 21/50\n",
      "50000/50000 [==============================] - 2s 32us/step - loss: 1.0406 - acc: 0.6462 - val_loss: 1.4664 - val_acc: 0.4865\n",
      "Epoch 22/50\n",
      "50000/50000 [==============================] - 2s 32us/step - loss: 1.0178 - acc: 0.6560 - val_loss: 1.4743 - val_acc: 0.4881\n",
      "Epoch 23/50\n",
      "50000/50000 [==============================] - 2s 32us/step - loss: 0.9969 - acc: 0.6639 - val_loss: 1.4760 - val_acc: 0.4902\n",
      "Epoch 24/50\n",
      "50000/50000 [==============================] - 2s 32us/step - loss: 0.9766 - acc: 0.6690 - val_loss: 1.4778 - val_acc: 0.4893\n",
      "Epoch 25/50\n",
      "50000/50000 [==============================] - 2s 32us/step - loss: 0.9569 - acc: 0.6769 - val_loss: 1.4846 - val_acc: 0.4931\n",
      "Epoch 26/50\n",
      "50000/50000 [==============================] - 2s 32us/step - loss: 0.9367 - acc: 0.6870 - val_loss: 1.4779 - val_acc: 0.4927\n",
      "Epoch 27/50\n",
      "50000/50000 [==============================] - 2s 32us/step - loss: 0.9144 - acc: 0.6962 - val_loss: 1.4710 - val_acc: 0.4956\n",
      "Epoch 28/50\n",
      "50000/50000 [==============================] - 2s 32us/step - loss: 0.8929 - acc: 0.7040 - val_loss: 1.5007 - val_acc: 0.4893\n",
      "Epoch 29/50\n",
      "50000/50000 [==============================] - 2s 32us/step - loss: 0.8719 - acc: 0.7125 - val_loss: 1.4902 - val_acc: 0.4946\n",
      "Epoch 30/50\n",
      "50000/50000 [==============================] - 2s 32us/step - loss: 0.8514 - acc: 0.7211 - val_loss: 1.4942 - val_acc: 0.4926\n",
      "Epoch 31/50\n",
      "50000/50000 [==============================] - 2s 32us/step - loss: 0.8316 - acc: 0.7298 - val_loss: 1.5108 - val_acc: 0.4884\n",
      "Epoch 32/50\n",
      "50000/50000 [==============================] - 2s 33us/step - loss: 0.8133 - acc: 0.7350 - val_loss: 1.5079 - val_acc: 0.4922\n",
      "Epoch 33/50\n",
      "50000/50000 [==============================] - 2s 32us/step - loss: 0.7920 - acc: 0.7443 - val_loss: 1.5107 - val_acc: 0.4921\n",
      "Epoch 34/50\n",
      "50000/50000 [==============================] - 2s 32us/step - loss: 0.7724 - acc: 0.7516 - val_loss: 1.5103 - val_acc: 0.4938\n",
      "Epoch 35/50\n",
      "50000/50000 [==============================] - 2s 32us/step - loss: 0.7528 - acc: 0.7610 - val_loss: 1.5336 - val_acc: 0.4949\n",
      "Epoch 36/50\n",
      "50000/50000 [==============================] - 2s 32us/step - loss: 0.7352 - acc: 0.7668 - val_loss: 1.5305 - val_acc: 0.4965\n",
      "Epoch 37/50\n",
      "50000/50000 [==============================] - 2s 32us/step - loss: 0.7157 - acc: 0.7761 - val_loss: 1.5481 - val_acc: 0.4899\n",
      "Epoch 38/50\n",
      "50000/50000 [==============================] - 2s 32us/step - loss: 0.6946 - acc: 0.7836 - val_loss: 1.5472 - val_acc: 0.4962\n",
      "Epoch 39/50\n",
      "50000/50000 [==============================] - 2s 32us/step - loss: 0.6776 - acc: 0.7900 - val_loss: 1.5606 - val_acc: 0.4887\n",
      "Epoch 40/50\n",
      "50000/50000 [==============================] - 2s 32us/step - loss: 0.6584 - acc: 0.7975 - val_loss: 1.5714 - val_acc: 0.4965\n",
      "Epoch 41/50\n",
      "50000/50000 [==============================] - 2s 32us/step - loss: 0.6398 - acc: 0.8052 - val_loss: 1.5861 - val_acc: 0.4858\n",
      "Epoch 42/50\n",
      "50000/50000 [==============================] - 2s 32us/step - loss: 0.6208 - acc: 0.8119 - val_loss: 1.5868 - val_acc: 0.4961\n",
      "Epoch 43/50\n",
      "50000/50000 [==============================] - 2s 32us/step - loss: 0.6015 - acc: 0.8191 - val_loss: 1.6219 - val_acc: 0.4837\n",
      "Epoch 44/50\n",
      "50000/50000 [==============================] - 2s 32us/step - loss: 0.5840 - acc: 0.8252 - val_loss: 1.6022 - val_acc: 0.4916\n",
      "Epoch 45/50\n"
     ]
    },
    {
     "name": "stdout",
     "output_type": "stream",
     "text": [
      "50000/50000 [==============================] - 2s 32us/step - loss: 0.5656 - acc: 0.8338 - val_loss: 1.6212 - val_acc: 0.4924\n",
      "Epoch 46/50\n",
      "50000/50000 [==============================] - 2s 32us/step - loss: 0.5509 - acc: 0.8406 - val_loss: 1.6343 - val_acc: 0.4927\n",
      "Epoch 47/50\n",
      "50000/50000 [==============================] - 2s 32us/step - loss: 0.5350 - acc: 0.8455 - val_loss: 1.6453 - val_acc: 0.4923\n",
      "Epoch 48/50\n",
      "50000/50000 [==============================] - 2s 32us/step - loss: 0.5165 - acc: 0.8527 - val_loss: 1.6889 - val_acc: 0.4881\n",
      "Epoch 49/50\n",
      "50000/50000 [==============================] - 2s 33us/step - loss: 0.5011 - acc: 0.8589 - val_loss: 1.7108 - val_acc: 0.4823\n",
      "Epoch 50/50\n",
      "50000/50000 [==============================] - 2s 32us/step - loss: 0.4827 - acc: 0.8665 - val_loss: 1.6827 - val_acc: 0.4948\n"
     ]
    }
   ],
   "source": [
    "model = build_mlp(input_shape=x_train.shape[1:])\n",
    "model.summary()\n",
    "optimizer = keras.optimizers.SGD(lr=LEARNING_RATE, nesterov=True, momentum=MOMENTUM)\n",
    "model.compile(loss=\"categorical_crossentropy\", metrics=[\"accuracy\"], optimizer=optimizer)\n",
    "\n",
    "model.fit(x_train, y_train, \n",
    "          epochs=EPOCHS, \n",
    "          batch_size=BATCH_SIZE, \n",
    "          validation_data=(x_test, y_test), \n",
    "          shuffle=True)\n",
    "\n",
    "# Collect results\n",
    "train_loss = model.history.history[\"loss\"]\n",
    "valid_loss = model.history.history[\"val_loss\"]\n",
    "train_acc = model.history.history[\"acc\"]\n",
    "valid_acc = model.history.history[\"val_acc\"]"
   ]
  },
  {
   "cell_type": "code",
   "execution_count": 8,
   "metadata": {},
   "outputs": [
    {
     "data": {
      "image/png": "[encoded data removed]",
      "text/plain": [
       "<Figure size 432x288 with 1 Axes>"
      ]
     },
     "metadata": {
      "needs_background": "light"
     },
     "output_type": "display_data"
    },
    {
     "data": {
      "image/png": "[encoded data removed]",
      "text/plain": [
       "<Figure size 432x288 with 1 Axes>"
      ]
     },
     "metadata": {
      "needs_background": "light"
     },
     "output_type": "display_data"
    }
   ],
   "source": [
    "import matplotlib.pyplot as plt\n",
    "%matplotlib inline\n",
    "\n",
    "plt.plot(range(len(train_loss)), train_loss, label=\"train loss\")\n",
    "plt.plot(range(len(valid_loss)), valid_loss, label=\"valid loss\")\n",
    "plt.legend()\n",
    "plt.title(\"Loss\")\n",
    "plt.show()\n",
    "\n",
    "plt.plot(range(len(train_acc)), train_acc, label=\"train accuracy\")\n",
    "plt.plot(range(len(valid_acc)), valid_acc, label=\"valid accuracy\")\n",
    "plt.legend()\n",
    "plt.title(\"Accuracy\")\n",
    "plt.show()"
   ]
  },
  {
   "cell_type": "markdown",
   "metadata": {},
   "source": [
    "## Work\n",
    "1. 試比較有 BN 在 Batch_size = 2, 16, 32, 128, 256 下的差異\n",
    "2. 請嘗試將 BN 放在 Activation 之前，並比較訓練結果\n",
    "3. 請於 BN 放在 Input Layer 後，並比較結果"
   ]
  }
 ],
 "metadata": {
  "kernelspec": {
   "display_name": "Python 3",
   "language": "python",
   "name": "python3"
  },
  "language_info": {
   "codemirror_mode": {
    "name": "ipython",
    "version": 3
   },
   "file_extension": ".py",
   "mimetype": "text/x-python",
   "name": "python",
   "nbconvert_exporter": "python",
   "pygments_lexer": "ipython3",
   "version": "3.7.3"
  }
 },
 "nbformat": 4,
 "nbformat_minor": 2
}
