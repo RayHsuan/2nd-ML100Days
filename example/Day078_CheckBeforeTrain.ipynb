{
 "cells": [
  {
   "cell_type": "markdown",
   "metadata": {},
   "source": [
    "## 範例重點\n",
    "### 學習在模型開始前檢查各個環節\n",
    "1. 是否有 GPU 資源\n",
    "2. 將前處理轉為函式，統一處理訓練、驗證與測試集\n",
    "3. 將超參數變數化，易於重複使用函式、模型等"
   ]
  },
  {
   "cell_type": "code",
   "execution_count": null,
   "metadata": {},
   "outputs": [],
   "source": [
    "## 確認硬體資源 (如果你是在 Linux, 若是在 Windows, 請參考 https://blog.csdn.net/idwtwt/article/details/78017565)\n",
    "#!nvidia-smi"
   ]
  },
  {
   "cell_type": "code",
   "execution_count": 12,
   "metadata": {},
   "outputs": [],
   "source": [
    "import os\n",
    "import keras\n",
    "\n",
    "# 本範例不需使用 GPU, 將 GPU 設定為 \"無\"\n",
    "#os.environ[\"CUDA_VISIBLE_DEVICES\"] = \"\""
   ]
  },
  {
   "cell_type": "code",
   "execution_count": 2,
   "metadata": {},
   "outputs": [],
   "source": [
    "# 從 Keras 的內建功能中，取得 train 與 test 資料集\n",
    "train, test = keras.datasets.cifar10.load_data()"
   ]
  },
  {
   "cell_type": "code",
   "execution_count": 3,
   "metadata": {},
   "outputs": [],
   "source": [
    "## 資料前處理\n",
    "def preproc_x(x, flatten=True):\n",
    "    x = x / 255.\n",
    "    if flatten:\n",
    "        x = x.reshape((len(x), -1))\n",
    "    return x\n",
    "\n",
    "def preproc_y(y, num_classes=10):\n",
    "    if y.shape[-1] == 1:\n",
    "        y = keras.utils.to_categorical(y, num_classes)\n",
    "    return y    "
   ]
  },
  {
   "cell_type": "code",
   "execution_count": 5,
   "metadata": {},
   "outputs": [],
   "source": [
    "x_train, y_train = train\n",
    "x_test, y_test = test\n",
    "\n",
    "# 資料前處理 - X 標準化\n",
    "x_train = preproc_x(x_train)\n",
    "x_test = preproc_x(x_test)\n",
    "\n",
    "# 資料前處理 -Y 轉成 onehot\n",
    "y_train = preproc_y(y_train)\n",
    "y_test = preproc_y(y_test)"
   ]
  },
  {
   "cell_type": "code",
   "execution_count": 4,
   "metadata": {},
   "outputs": [],
   "source": [
    "def build_mlp(input_shape, output_units=10, num_neurons=[512, 256, 128]):\n",
    "    input_layer = keras.layers.Input(input_shape)\n",
    "    \n",
    "    for i, n_units in enumerate(num_neurons):\n",
    "        if i == 0:\n",
    "            x = keras.layers.Dense(units=n_units, activation=\"relu\", name=\"hidden_layer\"+str(i+1))(input_layer)\n",
    "        else:\n",
    "            x = keras.layers.Dense(units=n_units, activation=\"relu\", name=\"hidden_layer\"+str(i+1))(x)\n",
    "    \n",
    "    out = keras.layers.Dense(units=output_units, activation=\"softmax\", name=\"output\")(x)\n",
    "    \n",
    "    model = keras.models.Model(inputs=[input_layer], outputs=[out])\n",
    "    return model"
   ]
  },
  {
   "cell_type": "code",
   "execution_count": 6,
   "metadata": {},
   "outputs": [
    {
     "name": "stdout",
     "output_type": "stream",
     "text": [
      "_________________________________________________________________\n",
      "Layer (type)                 Output Shape              Param #   \n",
      "=================================================================\n",
      "input_1 (InputLayer)         (None, 3072)              0         \n",
      "_________________________________________________________________\n",
      "hidden_layer1 (Dense)        (None, 512)               1573376   \n",
      "_________________________________________________________________\n",
      "hidden_layer2 (Dense)        (None, 256)               131328    \n",
      "_________________________________________________________________\n",
      "hidden_layer3 (Dense)        (None, 128)               32896     \n",
      "_________________________________________________________________\n",
      "output (Dense)               (None, 10)                1290      \n",
      "=================================================================\n",
      "Total params: 1,738,890\n",
      "Trainable params: 1,738,890\n",
      "Non-trainable params: 0\n",
      "_________________________________________________________________\n"
     ]
    }
   ],
   "source": [
    "model = build_mlp(input_shape=x_train.shape[1:])\n",
    "model.summary()"
   ]
  },
  {
   "cell_type": "code",
   "execution_count": 7,
   "metadata": {},
   "outputs": [],
   "source": [
    "## 超參數設定\n",
    "LEARNING_RATE = 0.001\n",
    "EPOCHS = 100\n",
    "BATCH_SIZE = 256"
   ]
  },
  {
   "cell_type": "code",
   "execution_count": 8,
   "metadata": {},
   "outputs": [],
   "source": [
    "optimizer = keras.optimizers.Adam(lr=LEARNING_RATE)\n",
    "model.compile(loss=\"categorical_crossentropy\", metrics=[\"accuracy\"], optimizer=optimizer)"
   ]
  },
  {
   "cell_type": "code",
   "execution_count": 9,
   "metadata": {},
   "outputs": [
    {
     "name": "stdout",
     "output_type": "stream",
     "text": [
      "Train on 50000 samples, validate on 10000 samples\n",
      "Epoch 1/100\n",
      "50000/50000 [==============================] - 15s 299us/step - loss: 1.9098 - acc: 0.3109 - val_loss: 1.7309 - val_acc: 0.3749\n",
      "Epoch 2/100\n",
      "50000/50000 [==============================] - 8s 152us/step - loss: 1.7012 - acc: 0.3902 - val_loss: 1.6623 - val_acc: 0.4038\n",
      "Epoch 3/100\n",
      "50000/50000 [==============================] - 8s 165us/step - loss: 1.6099 - acc: 0.4235 - val_loss: 1.5846 - val_acc: 0.4284\n",
      "Epoch 4/100\n",
      "50000/50000 [==============================] - 8s 167us/step - loss: 1.5429 - acc: 0.4479 - val_loss: 1.5852 - val_acc: 0.4373\n",
      "Epoch 5/100\n",
      "50000/50000 [==============================] - 8s 157us/step - loss: 1.4978 - acc: 0.4651 - val_loss: 1.5139 - val_acc: 0.4602\n",
      "Epoch 6/100\n",
      "50000/50000 [==============================] - 8s 160us/step - loss: 1.4653 - acc: 0.4789 - val_loss: 1.4884 - val_acc: 0.4647\n",
      "Epoch 7/100\n",
      "50000/50000 [==============================] - 8s 160us/step - loss: 1.4316 - acc: 0.4886 - val_loss: 1.4455 - val_acc: 0.4874\n",
      "Epoch 8/100\n",
      "50000/50000 [==============================] - 8s 161us/step - loss: 1.4074 - acc: 0.4960 - val_loss: 1.4888 - val_acc: 0.4676\n",
      "Epoch 9/100\n",
      "50000/50000 [==============================] - 8s 163us/step - loss: 1.3744 - acc: 0.5093 - val_loss: 1.4395 - val_acc: 0.4883\n",
      "Epoch 10/100\n",
      "50000/50000 [==============================] - 8s 159us/step - loss: 1.3600 - acc: 0.5165 - val_loss: 1.4404 - val_acc: 0.4855\n",
      "Epoch 11/100\n",
      "50000/50000 [==============================] - 8s 161us/step - loss: 1.3228 - acc: 0.5293 - val_loss: 1.4095 - val_acc: 0.5035\n",
      "Epoch 12/100\n",
      "50000/50000 [==============================] - 8s 162us/step - loss: 1.2906 - acc: 0.5399 - val_loss: 1.4488 - val_acc: 0.4895\n",
      "Epoch 13/100\n",
      "50000/50000 [==============================] - 8s 154us/step - loss: 1.2807 - acc: 0.5449 - val_loss: 1.3833 - val_acc: 0.5159\n",
      "Epoch 14/100\n",
      "50000/50000 [==============================] - 8s 153us/step - loss: 1.2501 - acc: 0.5537 - val_loss: 1.3916 - val_acc: 0.5122\n",
      "Epoch 15/100\n",
      "50000/50000 [==============================] - 8s 155us/step - loss: 1.2332 - acc: 0.5599 - val_loss: 1.3964 - val_acc: 0.5098\n",
      "Epoch 16/100\n",
      "50000/50000 [==============================] - 7s 149us/step - loss: 1.2091 - acc: 0.5704 - val_loss: 1.3726 - val_acc: 0.5215\n",
      "Epoch 17/100\n",
      "50000/50000 [==============================] - 8s 152us/step - loss: 1.1934 - acc: 0.5741 - val_loss: 1.4006 - val_acc: 0.5050\n",
      "Epoch 18/100\n",
      "50000/50000 [==============================] - 8s 158us/step - loss: 1.1673 - acc: 0.5834 - val_loss: 1.3854 - val_acc: 0.5137\n",
      "Epoch 19/100\n",
      "50000/50000 [==============================] - 7s 147us/step - loss: 1.1483 - acc: 0.5914 - val_loss: 1.3431 - val_acc: 0.5277\n",
      "Epoch 20/100\n",
      "50000/50000 [==============================] - 7s 142us/step - loss: 1.1329 - acc: 0.5972 - val_loss: 1.3819 - val_acc: 0.5217\n",
      "Epoch 21/100\n",
      "50000/50000 [==============================] - 7s 138us/step - loss: 1.1251 - acc: 0.5989 - val_loss: 1.4160 - val_acc: 0.5053\n",
      "Epoch 22/100\n",
      "50000/50000 [==============================] - 7s 141us/step - loss: 1.0968 - acc: 0.6096 - val_loss: 1.3964 - val_acc: 0.5208\n",
      "Epoch 23/100\n",
      "50000/50000 [==============================] - 8s 150us/step - loss: 1.0887 - acc: 0.6121 - val_loss: 1.3935 - val_acc: 0.5242\n",
      "Epoch 24/100\n",
      "50000/50000 [==============================] - 8s 153us/step - loss: 1.0673 - acc: 0.6206 - val_loss: 1.3734 - val_acc: 0.5279\n",
      "Epoch 25/100\n",
      "50000/50000 [==============================] - 7s 137us/step - loss: 1.0439 - acc: 0.6298 - val_loss: 1.3778 - val_acc: 0.5334\n",
      "Epoch 26/100\n",
      "50000/50000 [==============================] - 7s 149us/step - loss: 1.0352 - acc: 0.6301 - val_loss: 1.4027 - val_acc: 0.5255\n",
      "Epoch 27/100\n",
      "50000/50000 [==============================] - 7s 142us/step - loss: 1.0139 - acc: 0.6392 - val_loss: 1.4019 - val_acc: 0.5360\n",
      "Epoch 28/100\n",
      "50000/50000 [==============================] - 5s 103us/step - loss: 0.9885 - acc: 0.6464 - val_loss: 1.3819 - val_acc: 0.5383\n",
      "Epoch 29/100\n",
      "50000/50000 [==============================] - 4s 90us/step - loss: 0.9710 - acc: 0.6536 - val_loss: 1.4270 - val_acc: 0.5278\n",
      "Epoch 30/100\n",
      "50000/50000 [==============================] - 4s 89us/step - loss: 0.9652 - acc: 0.6546 - val_loss: 1.4328 - val_acc: 0.5291\n",
      "Epoch 31/100\n",
      "50000/50000 [==============================] - 6s 129us/step - loss: 0.9451 - acc: 0.6662 - val_loss: 1.4218 - val_acc: 0.5290\n",
      "Epoch 32/100\n",
      "50000/50000 [==============================] - 6s 128us/step - loss: 0.9412 - acc: 0.6641 - val_loss: 1.4621 - val_acc: 0.5141\n",
      "Epoch 33/100\n",
      "50000/50000 [==============================] - 7s 133us/step - loss: 0.9168 - acc: 0.6734 - val_loss: 1.4545 - val_acc: 0.5236\n",
      "Epoch 34/100\n",
      "50000/50000 [==============================] - 6s 126us/step - loss: 0.8982 - acc: 0.6814 - val_loss: 1.5215 - val_acc: 0.5126\n",
      "Epoch 35/100\n",
      "50000/50000 [==============================] - 7s 135us/step - loss: 0.8763 - acc: 0.6887 - val_loss: 1.5137 - val_acc: 0.5122\n",
      "Epoch 36/100\n",
      "50000/50000 [==============================] - 7s 134us/step - loss: 0.8653 - acc: 0.6929 - val_loss: 1.5090 - val_acc: 0.5195\n",
      "Epoch 37/100\n",
      "50000/50000 [==============================] - 6s 129us/step - loss: 0.8636 - acc: 0.6934 - val_loss: 1.5209 - val_acc: 0.5221\n",
      "Epoch 38/100\n",
      "50000/50000 [==============================] - 7s 131us/step - loss: 0.8307 - acc: 0.7040 - val_loss: 1.5379 - val_acc: 0.5298\n",
      "Epoch 39/100\n",
      "50000/50000 [==============================] - 6s 127us/step - loss: 0.8207 - acc: 0.7092 - val_loss: 1.5325 - val_acc: 0.5264\n",
      "Epoch 40/100\n",
      "50000/50000 [==============================] - 6s 118us/step - loss: 0.8031 - acc: 0.7144 - val_loss: 1.5729 - val_acc: 0.5208\n",
      "Epoch 41/100\n",
      "50000/50000 [==============================] - 7s 135us/step - loss: 0.7989 - acc: 0.7142 - val_loss: 1.5604 - val_acc: 0.5181\n",
      "Epoch 42/100\n",
      "50000/50000 [==============================] - 6s 128us/step - loss: 0.7724 - acc: 0.7240 - val_loss: 1.5891 - val_acc: 0.5167\n",
      "Epoch 43/100\n",
      "50000/50000 [==============================] - 7s 133us/step - loss: 0.7787 - acc: 0.7243 - val_loss: 1.6023 - val_acc: 0.5170\n",
      "Epoch 44/100\n",
      "50000/50000 [==============================] - 6s 127us/step - loss: 0.7390 - acc: 0.7344 - val_loss: 1.6514 - val_acc: 0.5136\n",
      "Epoch 45/100\n",
      "50000/50000 [==============================] - 7s 134us/step - loss: 0.7287 - acc: 0.7400 - val_loss: 1.6186 - val_acc: 0.5242\n",
      "Epoch 46/100\n",
      "50000/50000 [==============================] - 6s 122us/step - loss: 0.7188 - acc: 0.7450 - val_loss: 1.6839 - val_acc: 0.5232\n",
      "Epoch 47/100\n",
      "50000/50000 [==============================] - 7s 131us/step - loss: 0.7142 - acc: 0.7449 - val_loss: 1.6624 - val_acc: 0.5253\n",
      "Epoch 48/100\n",
      "50000/50000 [==============================] - 6s 126us/step - loss: 0.6865 - acc: 0.7578 - val_loss: 1.7114 - val_acc: 0.5152\n",
      "Epoch 49/100\n",
      "50000/50000 [==============================] - 6s 124us/step - loss: 0.6836 - acc: 0.7546 - val_loss: 1.7154 - val_acc: 0.5163\n",
      "Epoch 50/100\n",
      "50000/50000 [==============================] - 6s 128us/step - loss: 0.6644 - acc: 0.7642 - val_loss: 1.7690 - val_acc: 0.5164\n",
      "Epoch 51/100\n",
      "50000/50000 [==============================] - 6s 123us/step - loss: 0.6648 - acc: 0.7632 - val_loss: 1.7648 - val_acc: 0.5162\n",
      "Epoch 52/100\n",
      "50000/50000 [==============================] - 6s 127us/step - loss: 0.6514 - acc: 0.7683 - val_loss: 1.7994 - val_acc: 0.5197\n",
      "Epoch 53/100\n",
      "50000/50000 [==============================] - 7s 131us/step - loss: 0.6408 - acc: 0.7706 - val_loss: 1.8121 - val_acc: 0.5152\n",
      "Epoch 54/100\n",
      "50000/50000 [==============================] - 7s 140us/step - loss: 0.6214 - acc: 0.7797 - val_loss: 1.8643 - val_acc: 0.5136\n",
      "Epoch 55/100\n",
      "50000/50000 [==============================] - 7s 142us/step - loss: 0.6095 - acc: 0.7811 - val_loss: 1.9208 - val_acc: 0.5045\n",
      "Epoch 56/100\n",
      "50000/50000 [==============================] - 7s 135us/step - loss: 0.5935 - acc: 0.7881 - val_loss: 1.8622 - val_acc: 0.5220\n",
      "Epoch 57/100\n",
      "50000/50000 [==============================] - 7s 142us/step - loss: 0.5931 - acc: 0.7868 - val_loss: 1.9250 - val_acc: 0.5142\n",
      "Epoch 58/100\n",
      "50000/50000 [==============================] - 7s 141us/step - loss: 0.5856 - acc: 0.7907 - val_loss: 1.8986 - val_acc: 0.5140\n",
      "Epoch 59/100\n"
     ]
    },
    {
     "name": "stdout",
     "output_type": "stream",
     "text": [
      "50000/50000 [==============================] - 7s 148us/step - loss: 0.5696 - acc: 0.7970 - val_loss: 2.0044 - val_acc: 0.5094\n",
      "Epoch 60/100\n",
      "50000/50000 [==============================] - 8s 156us/step - loss: 0.5711 - acc: 0.7963 - val_loss: 2.0109 - val_acc: 0.5157\n",
      "Epoch 61/100\n",
      "50000/50000 [==============================] - 8s 159us/step - loss: 0.5535 - acc: 0.8027 - val_loss: 1.9934 - val_acc: 0.5056\n",
      "Epoch 62/100\n",
      "50000/50000 [==============================] - 8s 151us/step - loss: 0.5392 - acc: 0.8068 - val_loss: 2.0475 - val_acc: 0.5103\n",
      "Epoch 63/100\n",
      "50000/50000 [==============================] - 8s 152us/step - loss: 0.5280 - acc: 0.8111 - val_loss: 2.0571 - val_acc: 0.5100\n",
      "Epoch 64/100\n",
      "50000/50000 [==============================] - 8s 151us/step - loss: 0.5265 - acc: 0.8123 - val_loss: 2.0599 - val_acc: 0.5053\n",
      "Epoch 65/100\n",
      "50000/50000 [==============================] - 8s 155us/step - loss: 0.5192 - acc: 0.8151 - val_loss: 2.0762 - val_acc: 0.5059\n",
      "Epoch 66/100\n",
      "50000/50000 [==============================] - 8s 156us/step - loss: 0.5081 - acc: 0.8174 - val_loss: 2.1222 - val_acc: 0.5141\n",
      "Epoch 67/100\n",
      "50000/50000 [==============================] - 8s 158us/step - loss: 0.5115 - acc: 0.8172 - val_loss: 2.1885 - val_acc: 0.5111\n",
      "Epoch 68/100\n",
      "50000/50000 [==============================] - 8s 156us/step - loss: 0.4872 - acc: 0.8239 - val_loss: 2.2772 - val_acc: 0.4989\n",
      "Epoch 69/100\n",
      "50000/50000 [==============================] - 8s 156us/step - loss: 0.4771 - acc: 0.8303 - val_loss: 2.2645 - val_acc: 0.5038\n",
      "Epoch 70/100\n",
      "50000/50000 [==============================] - 8s 153us/step - loss: 0.4920 - acc: 0.8237 - val_loss: 2.2383 - val_acc: 0.5032\n",
      "Epoch 71/100\n",
      "50000/50000 [==============================] - 8s 157us/step - loss: 0.4623 - acc: 0.8354 - val_loss: 2.2718 - val_acc: 0.5106\n",
      "Epoch 72/100\n",
      "50000/50000 [==============================] - 8s 153us/step - loss: 0.4468 - acc: 0.8408 - val_loss: 2.3105 - val_acc: 0.5104\n",
      "Epoch 73/100\n",
      "50000/50000 [==============================] - 8s 155us/step - loss: 0.4496 - acc: 0.8386 - val_loss: 2.3352 - val_acc: 0.5049\n",
      "Epoch 74/100\n",
      "50000/50000 [==============================] - 8s 162us/step - loss: 0.4365 - acc: 0.8437 - val_loss: 2.3121 - val_acc: 0.5054\n",
      "Epoch 75/100\n",
      "50000/50000 [==============================] - 7s 144us/step - loss: 0.4527 - acc: 0.8349 - val_loss: 2.3548 - val_acc: 0.5038\n",
      "Epoch 76/100\n",
      "50000/50000 [==============================] - 8s 154us/step - loss: 0.4271 - acc: 0.8454 - val_loss: 2.4248 - val_acc: 0.5054\n",
      "Epoch 77/100\n",
      "50000/50000 [==============================] - 8s 154us/step - loss: 0.4316 - acc: 0.8444 - val_loss: 2.3886 - val_acc: 0.5072\n",
      "Epoch 78/100\n",
      "50000/50000 [==============================] - 8s 153us/step - loss: 0.4127 - acc: 0.8509 - val_loss: 2.4338 - val_acc: 0.5000\n",
      "Epoch 79/100\n",
      "50000/50000 [==============================] - 8s 157us/step - loss: 0.4039 - acc: 0.8561 - val_loss: 2.4280 - val_acc: 0.5042\n",
      "Epoch 80/100\n",
      "50000/50000 [==============================] - 8s 155us/step - loss: 0.4181 - acc: 0.8493 - val_loss: 2.5770 - val_acc: 0.4961\n",
      "Epoch 81/100\n",
      "50000/50000 [==============================] - 8s 154us/step - loss: 0.4058 - acc: 0.8545 - val_loss: 2.4976 - val_acc: 0.5059\n",
      "Epoch 82/100\n",
      "50000/50000 [==============================] - 8s 157us/step - loss: 0.3879 - acc: 0.8609 - val_loss: 2.5256 - val_acc: 0.5034\n",
      "Epoch 83/100\n",
      "50000/50000 [==============================] - 7s 146us/step - loss: 0.3824 - acc: 0.8627 - val_loss: 2.6447 - val_acc: 0.4927\n",
      "Epoch 84/100\n",
      "50000/50000 [==============================] - 8s 154us/step - loss: 0.3823 - acc: 0.8633 - val_loss: 2.6112 - val_acc: 0.5026\n",
      "Epoch 85/100\n",
      "50000/50000 [==============================] - 8s 152us/step - loss: 0.3894 - acc: 0.8588 - val_loss: 2.6242 - val_acc: 0.4965\n",
      "Epoch 86/100\n",
      "50000/50000 [==============================] - 8s 152us/step - loss: 0.3691 - acc: 0.8668 - val_loss: 2.7509 - val_acc: 0.4888\n",
      "Epoch 87/100\n",
      "50000/50000 [==============================] - 8s 156us/step - loss: 0.3686 - acc: 0.8675 - val_loss: 2.6220 - val_acc: 0.5048\n",
      "Epoch 88/100\n",
      "50000/50000 [==============================] - 8s 153us/step - loss: 0.3485 - acc: 0.8748 - val_loss: 2.7670 - val_acc: 0.5018\n",
      "Epoch 89/100\n",
      "50000/50000 [==============================] - 8s 154us/step - loss: 0.3540 - acc: 0.8727 - val_loss: 2.7165 - val_acc: 0.5049\n",
      "Epoch 90/100\n",
      "50000/50000 [==============================] - 8s 151us/step - loss: 0.3504 - acc: 0.8750 - val_loss: 2.6800 - val_acc: 0.5035\n",
      "Epoch 91/100\n",
      "50000/50000 [==============================] - 8s 156us/step - loss: 0.3464 - acc: 0.8756 - val_loss: 2.7565 - val_acc: 0.5012\n",
      "Epoch 92/100\n",
      "50000/50000 [==============================] - 8s 154us/step - loss: 0.3164 - acc: 0.8880 - val_loss: 2.8606 - val_acc: 0.4952\n",
      "Epoch 93/100\n",
      "50000/50000 [==============================] - 8s 156us/step - loss: 0.3560 - acc: 0.8713 - val_loss: 2.8374 - val_acc: 0.4963\n",
      "Epoch 94/100\n",
      "50000/50000 [==============================] - 8s 157us/step - loss: 0.3512 - acc: 0.8745 - val_loss: 2.9215 - val_acc: 0.4935\n",
      "Epoch 95/100\n",
      "50000/50000 [==============================] - 8s 153us/step - loss: 0.3157 - acc: 0.8874 - val_loss: 2.9434 - val_acc: 0.5000\n",
      "Epoch 96/100\n",
      "50000/50000 [==============================] - 7s 144us/step - loss: 0.3149 - acc: 0.8863 - val_loss: 2.9597 - val_acc: 0.4906\n",
      "Epoch 97/100\n",
      "50000/50000 [==============================] - 7s 148us/step - loss: 0.3247 - acc: 0.8840 - val_loss: 3.0254 - val_acc: 0.4925\n",
      "Epoch 98/100\n",
      "50000/50000 [==============================] - 7s 147us/step - loss: 0.3076 - acc: 0.8890 - val_loss: 2.9349 - val_acc: 0.4939\n",
      "Epoch 99/100\n",
      "50000/50000 [==============================] - 7s 150us/step - loss: 0.3052 - acc: 0.8882 - val_loss: 3.0654 - val_acc: 0.4932\n",
      "Epoch 100/100\n",
      "50000/50000 [==============================] - 8s 152us/step - loss: 0.3143 - acc: 0.8866 - val_loss: 2.9925 - val_acc: 0.5038\n"
     ]
    },
    {
     "data": {
      "text/plain": [
       "<keras.callbacks.History at 0x1f2b49e6cc0>"
      ]
     },
     "execution_count": 9,
     "metadata": {},
     "output_type": "execute_result"
    }
   ],
   "source": [
    "model.fit(x_train, y_train, \n",
    "          epochs=EPOCHS, \n",
    "          batch_size=BATCH_SIZE, \n",
    "          validation_data=(x_test, y_test), \n",
    "          shuffle=True)"
   ]
  },
  {
   "cell_type": "code",
   "execution_count": 11,
   "metadata": {},
   "outputs": [
    {
     "data": {
      "image/png": "[encoded data removed]",
      "text/plain": [
       "<Figure size 432x288 with 1 Axes>"
      ]
     },
     "metadata": {
      "needs_background": "light"
     },
     "output_type": "display_data"
    },
    {
     "data": {
      "image/png": "[encoded data removed]",
      "text/plain": [
       "<Figure size 432x288 with 1 Axes>"
      ]
     },
     "metadata": {
      "needs_background": "light"
     },
     "output_type": "display_data"
    }
   ],
   "source": [
    "# 訓練模型並檢視驗證集的結果\n",
    "import matplotlib.pyplot as plt\n",
    "\n",
    "train_loss = model.history.history[\"loss\"]\n",
    "valid_loss = model.history.history[\"val_loss\"]\n",
    "\n",
    "train_acc = model.history.history[\"acc\"]\n",
    "valid_acc = model.history.history[\"val_acc\"]\n",
    "\n",
    "plt.plot(range(len(train_loss)), train_loss, label=\"train loss\")\n",
    "plt.plot(range(len(valid_loss)), valid_loss, label=\"valid loss\")\n",
    "plt.legend()\n",
    "plt.title(\"Loss\")\n",
    "plt.show()\n",
    "\n",
    "plt.plot(range(len(train_acc)), train_acc, label=\"train accuracy\")\n",
    "plt.plot(range(len(valid_acc)), valid_acc, label=\"valid accuracy\")\n",
    "plt.legend()\n",
    "plt.title(\"Accuracy\")\n",
    "plt.show()"
   ]
  },
  {
   "cell_type": "markdown",
   "metadata": {},
   "source": [
    "## Work\n",
    "1. 請嘗試將 preproc_x 替換成以每筆資料的 min/max 進行標準化至 -1 ~ 1 間，再進行訓練\n",
    "2. 請嘗試將 mlp 疊更深 (e.g 5~10 層)，進行訓練後觀察 learning curve 的走勢\n",
    "3. (optional) 請改用 GPU 進行訓練 (如果你有 GPU 的話)，比較使用 CPU 與 GPU 的訓練速度"
   ]
  }
 ],
 "metadata": {
  "kernelspec": {
   "display_name": "Python 3",
   "language": "python",
   "name": "python3"
  },
  "language_info": {
   "codemirror_mode": {
    "name": "ipython",
    "version": 3
   },
   "file_extension": ".py",
   "mimetype": "text/x-python",
   "name": "python",
   "nbconvert_exporter": "python",
   "pygments_lexer": "ipython3",
   "version": "3.5.6"
  }
 },
 "nbformat": 4,
 "nbformat_minor": 2
}
