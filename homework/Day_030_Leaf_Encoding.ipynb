{
 "cells": [
  {
   "cell_type": "markdown",
   "metadata": {
    "collapsed": true
   },
   "source": [
    "# 作業 : (Kaggle)鐵達尼生存預測"
   ]
  },
  {
   "cell_type": "markdown",
   "metadata": {},
   "source": [
    "# [教學目標]\n",
    "- 以下用鐵達尼預測資料, 展示如何使用葉編碼, 並觀察預測效果\n",
    "- 因為只有分類問題比較適合葉編碼, 因此範例與作業都使用鐵達尼的資料(二元分類問題)"
   ]
  },
  {
   "cell_type": "markdown",
   "metadata": {},
   "source": [
    "# [教學目標]\n",
    "- 了解葉編碼的寫作方式 : 使用梯度提升樹 (In[3]~In[5], Out[3]~Out[5])\n",
    "- 觀察葉編碼搭配邏輯斯迴歸後的效果 (In[6], Out[6], In[7], Out[7])"
   ]
  },
  {
   "cell_type": "code",
   "execution_count": 25,
   "metadata": {},
   "outputs": [
    {
     "data": {
      "text/html": [
       "<div>\n",
       "<style scoped>\n",
       "    .dataframe tbody tr th:only-of-type {\n",
       "        vertical-align: middle;\n",
       "    }\n",
       "\n",
       "    .dataframe tbody tr th {\n",
       "        vertical-align: top;\n",
       "    }\n",
       "\n",
       "    .dataframe thead th {\n",
       "        text-align: right;\n",
       "    }\n",
       "</style>\n",
       "<table border=\"1\" class=\"dataframe\">\n",
       "  <thead>\n",
       "    <tr style=\"text-align: right;\">\n",
       "      <th></th>\n",
       "      <th>Pclass</th>\n",
       "      <th>Name</th>\n",
       "      <th>Sex</th>\n",
       "      <th>Age</th>\n",
       "      <th>SibSp</th>\n",
       "      <th>Parch</th>\n",
       "      <th>Ticket</th>\n",
       "      <th>Fare</th>\n",
       "      <th>Cabin</th>\n",
       "      <th>Embarked</th>\n",
       "    </tr>\n",
       "  </thead>\n",
       "  <tbody>\n",
       "    <tr>\n",
       "      <th>0</th>\n",
       "      <td>3</td>\n",
       "      <td>Braund, Mr. Owen Harris</td>\n",
       "      <td>male</td>\n",
       "      <td>22.0</td>\n",
       "      <td>1</td>\n",
       "      <td>0</td>\n",
       "      <td>A/5 21171</td>\n",
       "      <td>7.2500</td>\n",
       "      <td>NaN</td>\n",
       "      <td>S</td>\n",
       "    </tr>\n",
       "    <tr>\n",
       "      <th>1</th>\n",
       "      <td>1</td>\n",
       "      <td>Cumings, Mrs. John Bradley (Florence Briggs Th...</td>\n",
       "      <td>female</td>\n",
       "      <td>38.0</td>\n",
       "      <td>1</td>\n",
       "      <td>0</td>\n",
       "      <td>PC 17599</td>\n",
       "      <td>71.2833</td>\n",
       "      <td>C85</td>\n",
       "      <td>C</td>\n",
       "    </tr>\n",
       "    <tr>\n",
       "      <th>2</th>\n",
       "      <td>3</td>\n",
       "      <td>Heikkinen, Miss. Laina</td>\n",
       "      <td>female</td>\n",
       "      <td>26.0</td>\n",
       "      <td>0</td>\n",
       "      <td>0</td>\n",
       "      <td>STON/O2. 3101282</td>\n",
       "      <td>7.9250</td>\n",
       "      <td>NaN</td>\n",
       "      <td>S</td>\n",
       "    </tr>\n",
       "    <tr>\n",
       "      <th>3</th>\n",
       "      <td>1</td>\n",
       "      <td>Futrelle, Mrs. Jacques Heath (Lily May Peel)</td>\n",
       "      <td>female</td>\n",
       "      <td>35.0</td>\n",
       "      <td>1</td>\n",
       "      <td>0</td>\n",
       "      <td>113803</td>\n",
       "      <td>53.1000</td>\n",
       "      <td>C123</td>\n",
       "      <td>S</td>\n",
       "    </tr>\n",
       "    <tr>\n",
       "      <th>4</th>\n",
       "      <td>3</td>\n",
       "      <td>Allen, Mr. William Henry</td>\n",
       "      <td>male</td>\n",
       "      <td>35.0</td>\n",
       "      <td>0</td>\n",
       "      <td>0</td>\n",
       "      <td>373450</td>\n",
       "      <td>8.0500</td>\n",
       "      <td>NaN</td>\n",
       "      <td>S</td>\n",
       "    </tr>\n",
       "  </tbody>\n",
       "</table>\n",
       "</div>"
      ],
      "text/plain": [
       "   Pclass                                               Name     Sex   Age  \\\n",
       "0       3                            Braund, Mr. Owen Harris    male  22.0   \n",
       "1       1  Cumings, Mrs. John Bradley (Florence Briggs Th...  female  38.0   \n",
       "2       3                             Heikkinen, Miss. Laina  female  26.0   \n",
       "3       1       Futrelle, Mrs. Jacques Heath (Lily May Peel)  female  35.0   \n",
       "4       3                           Allen, Mr. William Henry    male  35.0   \n",
       "\n",
       "   SibSp  Parch            Ticket     Fare Cabin Embarked  \n",
       "0      1      0         A/5 21171   7.2500   NaN        S  \n",
       "1      1      0          PC 17599  71.2833   C85        C  \n",
       "2      0      0  STON/O2. 3101282   7.9250   NaN        S  \n",
       "3      1      0            113803  53.1000  C123        S  \n",
       "4      0      0            373450   8.0500   NaN        S  "
      ]
     },
     "execution_count": 25,
     "metadata": {},
     "output_type": "execute_result"
    }
   ],
   "source": [
    "# 做完特徵工程前的所有準備\n",
    "import pandas as pd\n",
    "import numpy as np\n",
    "import copy\n",
    "from sklearn.preprocessing import LabelEncoder, MinMaxScaler\n",
    "from sklearn.linear_model import LogisticRegression\n",
    "from sklearn.ensemble import GradientBoostingClassifier\n",
    "# 因為擬合(fit)與編碼(transform)需要分開, 因此不使用.get_dummy, 而採用 sklearn 的 OneHotEncoder\n",
    "from sklearn.preprocessing import OneHotEncoder\n",
    "from sklearn.model_selection import train_test_split\n",
    "from sklearn.metrics import roc_curve\n",
    "\n",
    "data_path = 'C:/9_ShareFolder/GitHub/2nd-ML100Days/data/'\n",
    "df = pd.read_csv(data_path + 'titanic_train.csv')\n",
    "\n",
    "train_Y = df['Survived']\n",
    "df = df.drop(['PassengerId', 'Survived'] , axis=1)\n",
    "df.head()"
   ]
  },
  {
   "cell_type": "code",
   "execution_count": 26,
   "metadata": {},
   "outputs": [
    {
     "name": "stderr",
     "output_type": "stream",
     "text": [
      "C:\\Users\\Kent\\Anaconda3\\lib\\site-packages\\sklearn\\utils\\validation.py:475: DataConversionWarning: Data with input dtype int64 was converted to float64 by MinMaxScaler.\n",
      "  warnings.warn(msg, DataConversionWarning)\n"
     ]
    },
    {
     "data": {
      "text/html": [
       "<div>\n",
       "<style scoped>\n",
       "    .dataframe tbody tr th:only-of-type {\n",
       "        vertical-align: middle;\n",
       "    }\n",
       "\n",
       "    .dataframe tbody tr th {\n",
       "        vertical-align: top;\n",
       "    }\n",
       "\n",
       "    .dataframe thead th {\n",
       "        text-align: right;\n",
       "    }\n",
       "</style>\n",
       "<table border=\"1\" class=\"dataframe\">\n",
       "  <thead>\n",
       "    <tr style=\"text-align: right;\">\n",
       "      <th></th>\n",
       "      <th>Pclass</th>\n",
       "      <th>Name</th>\n",
       "      <th>Sex</th>\n",
       "      <th>Age</th>\n",
       "      <th>SibSp</th>\n",
       "      <th>Parch</th>\n",
       "      <th>Ticket</th>\n",
       "      <th>Fare</th>\n",
       "      <th>Cabin</th>\n",
       "      <th>Embarked</th>\n",
       "    </tr>\n",
       "  </thead>\n",
       "  <tbody>\n",
       "    <tr>\n",
       "      <th>0</th>\n",
       "      <td>1.0</td>\n",
       "      <td>0.121348</td>\n",
       "      <td>1.0</td>\n",
       "      <td>0.283951</td>\n",
       "      <td>0.125</td>\n",
       "      <td>0.0</td>\n",
       "      <td>0.769118</td>\n",
       "      <td>0.014151</td>\n",
       "      <td>0.000000</td>\n",
       "      <td>1.000000</td>\n",
       "    </tr>\n",
       "    <tr>\n",
       "      <th>1</th>\n",
       "      <td>0.0</td>\n",
       "      <td>0.213483</td>\n",
       "      <td>0.0</td>\n",
       "      <td>0.481481</td>\n",
       "      <td>0.125</td>\n",
       "      <td>0.0</td>\n",
       "      <td>0.876471</td>\n",
       "      <td>0.139136</td>\n",
       "      <td>0.557823</td>\n",
       "      <td>0.333333</td>\n",
       "    </tr>\n",
       "    <tr>\n",
       "      <th>2</th>\n",
       "      <td>1.0</td>\n",
       "      <td>0.396629</td>\n",
       "      <td>0.0</td>\n",
       "      <td>0.333333</td>\n",
       "      <td>0.000</td>\n",
       "      <td>0.0</td>\n",
       "      <td>0.983824</td>\n",
       "      <td>0.015469</td>\n",
       "      <td>0.000000</td>\n",
       "      <td>1.000000</td>\n",
       "    </tr>\n",
       "    <tr>\n",
       "      <th>3</th>\n",
       "      <td>0.0</td>\n",
       "      <td>0.305618</td>\n",
       "      <td>0.0</td>\n",
       "      <td>0.444444</td>\n",
       "      <td>0.125</td>\n",
       "      <td>0.0</td>\n",
       "      <td>0.072059</td>\n",
       "      <td>0.103644</td>\n",
       "      <td>0.380952</td>\n",
       "      <td>1.000000</td>\n",
       "    </tr>\n",
       "    <tr>\n",
       "      <th>4</th>\n",
       "      <td>1.0</td>\n",
       "      <td>0.016854</td>\n",
       "      <td>1.0</td>\n",
       "      <td>0.444444</td>\n",
       "      <td>0.000</td>\n",
       "      <td>0.0</td>\n",
       "      <td>0.694118</td>\n",
       "      <td>0.015713</td>\n",
       "      <td>0.000000</td>\n",
       "      <td>1.000000</td>\n",
       "    </tr>\n",
       "  </tbody>\n",
       "</table>\n",
       "</div>"
      ],
      "text/plain": [
       "   Pclass      Name  Sex       Age  SibSp  Parch    Ticket      Fare  \\\n",
       "0     1.0  0.121348  1.0  0.283951  0.125    0.0  0.769118  0.014151   \n",
       "1     0.0  0.213483  0.0  0.481481  0.125    0.0  0.876471  0.139136   \n",
       "2     1.0  0.396629  0.0  0.333333  0.000    0.0  0.983824  0.015469   \n",
       "3     0.0  0.305618  0.0  0.444444  0.125    0.0  0.072059  0.103644   \n",
       "4     1.0  0.016854  1.0  0.444444  0.000    0.0  0.694118  0.015713   \n",
       "\n",
       "      Cabin  Embarked  \n",
       "0  0.000000  1.000000  \n",
       "1  0.557823  0.333333  \n",
       "2  0.000000  1.000000  \n",
       "3  0.380952  1.000000  \n",
       "4  0.000000  1.000000  "
      ]
     },
     "execution_count": 26,
     "metadata": {},
     "output_type": "execute_result"
    }
   ],
   "source": [
    "# 因為需要把類別型與數值型特徵都加入, 故使用最簡版的特徵工程\n",
    "LEncoder = LabelEncoder()\n",
    "MMEncoder = MinMaxScaler()\n",
    "for c in df.columns:\n",
    "    df[c] = df[c].fillna(-1)\n",
    "    if df[c].dtype == 'object':\n",
    "        df[c] = LEncoder.fit_transform(list(df[c].values))\n",
    "    df[c] = MMEncoder.fit_transform(df[c].values.reshape(-1, 1))\n",
    "df.head()"
   ]
  },
  {
   "cell_type": "code",
   "execution_count": 27,
   "metadata": {},
   "outputs": [],
   "source": [
    "train_X = df.values\n",
    "# 因為訓練邏輯斯迴歸時也要資料, 因此將訓練及切成三部分 train / val / test, 採用 test 驗證而非 k-fold 交叉驗證\n",
    "# train 用來訓練梯度提升樹, val 用來訓練邏輯斯迴歸, test 驗證效果\n",
    "train_X, test_X, train_Y, test_Y = train_test_split(train_X, train_Y, test_size=0.5)\n",
    "train_X, val_X, train_Y, val_Y = train_test_split(train_X, train_Y, test_size=0.5)"
   ]
  },
  {
   "cell_type": "code",
   "execution_count": 28,
   "metadata": {},
   "outputs": [],
   "source": [
    "# 梯度提升樹調整參數並擬合後, 再將葉編碼 (*.apply) 結果做獨熱 / 邏輯斯迴歸\n",
    "# 調整參數的方式採用 RandomSearchCV 或 GridSearchCV, 以後的進度會再教給大家, 本次先直接使用調參結果\n",
    "gdbt = GradientBoostingClassifier(subsample=0.93, n_estimators=320, min_samples_split=0.1, min_samples_leaf=0.3, \n",
    "                                  max_features=4, max_depth=4, learning_rate=0.16)\n",
    "onehot = OneHotEncoder()\n",
    "lr = LogisticRegression(solver='lbfgs', max_iter=1000)"
   ]
  },
  {
   "cell_type": "code",
   "execution_count": 29,
   "metadata": {},
   "outputs": [
    {
     "data": {
      "text/plain": [
       "GradientBoostingClassifier(criterion='friedman_mse', init=None,\n",
       "              learning_rate=0.16, loss='deviance', max_depth=4,\n",
       "              max_features=4, max_leaf_nodes=None,\n",
       "              min_impurity_decrease=0.0, min_impurity_split=None,\n",
       "              min_samples_leaf=0.3, min_samples_split=0.1,\n",
       "              min_weight_fraction_leaf=0.0, n_estimators=320,\n",
       "              presort='auto', random_state=None, subsample=0.93, verbose=0,\n",
       "              warm_start=False)"
      ]
     },
     "execution_count": 29,
     "metadata": {},
     "output_type": "execute_result"
    }
   ],
   "source": [
    "gdbt.fit(train_X, train_Y)"
   ]
  },
  {
   "cell_type": "code",
   "execution_count": 30,
   "metadata": {},
   "outputs": [
    {
     "name": "stdout",
     "output_type": "stream",
     "text": [
      "222\n",
      "[[3. 1. 1. ... 3. 1. 1.]\n",
      " [4. 2. 2. ... 3. 1. 1.]\n",
      " [4. 2. 2. ... 4. 2. 1.]\n",
      " ...\n",
      " [3. 1. 1. ... 4. 2. 2.]\n",
      " [1. 1. 1. ... 1. 1. 2.]\n",
      " [1. 2. 2. ... 1. 1. 1.]]\n",
      "320\n"
     ]
    }
   ],
   "source": [
    "print(len(gdbt.apply(train_X)[:, :]))\n",
    "print(gdbt.apply(train_X)[:, :, 0])\n",
    "print(len(gdbt.apply(train_X)[:, :, 0][0]))"
   ]
  },
  {
   "cell_type": "code",
   "execution_count": 31,
   "metadata": {},
   "outputs": [
    {
     "data": {
      "text/plain": [
       "OneHotEncoder(categorical_features='all', dtype=<class 'numpy.float64'>,\n",
       "       handle_unknown='error', n_values='auto', sparse=True)"
      ]
     },
     "execution_count": 31,
     "metadata": {},
     "output_type": "execute_result"
    }
   ],
   "source": [
    "onehot.fit(gdbt.apply(train_X)[:, :, 0])"
   ]
  },
  {
   "cell_type": "code",
   "execution_count": 32,
   "metadata": {},
   "outputs": [
    {
     "data": {
      "text/plain": [
       "LogisticRegression(C=1.0, class_weight=None, dual=False, fit_intercept=True,\n",
       "          intercept_scaling=1, max_iter=1000, multi_class='ovr', n_jobs=1,\n",
       "          penalty='l2', random_state=None, solver='lbfgs', tol=0.0001,\n",
       "          verbose=0, warm_start=False)"
      ]
     },
     "execution_count": 32,
     "metadata": {},
     "output_type": "execute_result"
    }
   ],
   "source": [
    "lr.fit(onehot.transform(gdbt.apply(val_X)[:, :, 0]), val_Y)"
   ]
  },
  {
   "cell_type": "code",
   "execution_count": 33,
   "metadata": {},
   "outputs": [
    {
     "data": {
      "text/plain": [
       "array([[3., 1., 1., ..., 3., 1., 1.],\n",
       "       [4., 2., 2., ..., 3., 1., 1.],\n",
       "       [4., 2., 2., ..., 4., 2., 1.],\n",
       "       ...,\n",
       "       [3., 1., 1., ..., 4., 2., 2.],\n",
       "       [1., 1., 1., ..., 1., 1., 2.],\n",
       "       [1., 2., 2., ..., 1., 1., 1.]])"
      ]
     },
     "execution_count": 33,
     "metadata": {},
     "output_type": "execute_result"
    }
   ],
   "source": [
    "gdbt.apply(train_X)[:, :, 0]"
   ]
  },
  {
   "cell_type": "code",
   "execution_count": 37,
   "metadata": {},
   "outputs": [
    {
     "data": {
      "text/plain": [
       "array([3.11612205e-01, 1.97302800e-01, 3.75085280e-01, 8.72299703e-02,\n",
       "       3.18155683e-02, 6.19245221e-02, 1.50851466e-02, 6.86965177e-02,\n",
       "       1.56953679e-01, 9.12717858e-01, 3.41535358e-02, 7.14077830e-01,\n",
       "       5.47517844e-01, 9.85080897e-01, 1.31899310e-01, 7.32610607e-02,\n",
       "       9.11746064e-01, 6.57765179e-02, 2.31343529e-02, 2.78113844e-01,\n",
       "       5.63331794e-01, 9.15159393e-01, 3.17600663e-03, 4.07114210e-01,\n",
       "       8.92230492e-01, 2.78113844e-01, 3.65818495e-01, 1.17321211e-01,\n",
       "       9.72748771e-01, 7.98949310e-02, 9.87450361e-01, 8.75150953e-01,\n",
       "       1.46576850e-01, 1.50851466e-02, 1.61275854e-01, 6.93812363e-02,\n",
       "       1.15174528e-01, 8.83879145e-01, 5.13414457e-02, 1.50464833e-01,\n",
       "       7.57828367e-02, 3.38140639e-01, 2.86797024e-01, 8.87254583e-01,\n",
       "       9.90259320e-01, 7.00675170e-01, 9.85204312e-01, 8.28261641e-01,\n",
       "       7.05426427e-02, 6.57765179e-02, 6.18184523e-01, 1.71760619e-02,\n",
       "       4.93585554e-02, 9.34222309e-01, 3.63641859e-01, 9.72066287e-01,\n",
       "       7.94833266e-01, 3.32343552e-01, 6.63059526e-01, 3.11612205e-01,\n",
       "       9.71031841e-01, 1.01764402e-03, 4.02748896e-01, 6.57765179e-02,\n",
       "       9.97918080e-01, 3.48517556e-01, 9.90841108e-02, 6.57765179e-02,\n",
       "       3.30870345e-01, 9.78939234e-01, 1.85387853e-01, 5.25995503e-02,\n",
       "       5.49800801e-02, 1.13355576e-02, 2.44225250e-01, 3.17600663e-03,\n",
       "       4.33191467e-01, 5.68061266e-01, 5.52457039e-02, 5.19053720e-01,\n",
       "       9.98612135e-01, 4.49468992e-02, 8.77872236e-02, 8.02222605e-03,\n",
       "       2.87074144e-01, 2.02987913e-03, 1.55889670e-02, 2.08813126e-01,\n",
       "       8.00988384e-03, 9.97911698e-01, 6.77725865e-01, 2.36660365e-01,\n",
       "       1.19916214e-03, 4.52576204e-01, 5.24241797e-02, 1.28135066e-01,\n",
       "       6.86965177e-02, 9.28725490e-01, 1.18935794e-01, 1.89014703e-02,\n",
       "       5.40020656e-01, 7.91841530e-01, 9.49888858e-01, 2.86797024e-01,\n",
       "       9.62232763e-01, 1.84777413e-01, 4.49751684e-04, 2.47594482e-01,\n",
       "       4.44364058e-02, 7.30773122e-02, 6.02721672e-02, 8.35467535e-01,\n",
       "       5.49800801e-02, 4.47872944e-01, 6.26263816e-04, 1.55729379e-02,\n",
       "       9.81874415e-01, 1.54550990e-01, 2.93990061e-01, 2.04703430e-03,\n",
       "       1.43187972e-01, 9.93274572e-01, 2.75303164e-01, 9.32912656e-01,\n",
       "       9.45882811e-01, 9.05353585e-01, 9.97918080e-01, 2.29619118e-02,\n",
       "       1.35703771e-01, 5.56372714e-02, 9.92351037e-01, 1.45080677e-02,\n",
       "       8.47012828e-01, 6.92806807e-01, 3.99360298e-01, 2.57251587e-02,\n",
       "       1.82382039e-01, 8.60575832e-01, 4.49468992e-02, 6.99308234e-01,\n",
       "       5.10709215e-01, 1.13769757e-01, 1.76806582e-02, 8.25733888e-01,\n",
       "       6.72555326e-03, 4.93585554e-02, 3.31353590e-02, 1.03981575e-01,\n",
       "       5.80236290e-01, 9.64555544e-02, 3.39299615e-01, 5.52457039e-02,\n",
       "       1.36358398e-01, 1.24103270e-01, 9.75911057e-01, 6.86965177e-02,\n",
       "       4.49468992e-02, 3.30870345e-01, 9.86291343e-01, 9.67775426e-01,\n",
       "       3.39299615e-01, 1.08487855e-02, 5.70285184e-01, 8.59425427e-01,\n",
       "       8.65859184e-01, 1.06157971e-02, 3.32343552e-01, 8.20678152e-01,\n",
       "       4.17127637e-01, 7.53646044e-01, 3.57832819e-01, 9.31536516e-01,\n",
       "       9.88531373e-01, 2.00733067e-02, 3.17600663e-03, 4.49468992e-02,\n",
       "       8.13061683e-03, 4.49468992e-02, 8.73143592e-02, 9.86805828e-01,\n",
       "       5.30019321e-01, 3.11612205e-01, 6.88854295e-01, 6.30836530e-01,\n",
       "       6.17633419e-02, 6.86965177e-02, 2.64330601e-01, 5.23051086e-02,\n",
       "       8.94022047e-01, 9.97944557e-01, 1.12354291e-01, 1.87622662e-01,\n",
       "       3.39299615e-01, 3.77567469e-03, 9.07614700e-01, 3.43982365e-02,\n",
       "       3.45996686e-02, 3.86211926e-01, 5.47115702e-01, 2.20567033e-01,\n",
       "       2.44225250e-01, 8.66897637e-01, 9.65606279e-01, 1.00673880e-02,\n",
       "       1.29516985e-01, 1.89206104e-02, 2.59252383e-01, 9.31426064e-01,\n",
       "       8.57108061e-01, 8.99558060e-01, 9.64957617e-01, 2.37839634e-01,\n",
       "       2.05025848e-02, 1.54521964e-02, 9.42738265e-01, 8.52475456e-01,\n",
       "       5.24241797e-02, 1.87018274e-01, 9.18665709e-01, 1.43187972e-01,\n",
       "       7.95408935e-01, 9.87445434e-03, 4.49468992e-02, 9.31948306e-01,\n",
       "       5.48053905e-01, 1.63222181e-02, 6.95185458e-01, 8.98025283e-01,\n",
       "       3.78061092e-02, 6.86965177e-02, 2.02816772e-03, 1.38902895e-02,\n",
       "       7.53646044e-01, 6.40717461e-02, 9.49888858e-01, 5.18948207e-01,\n",
       "       1.50052611e-02, 2.39585066e-01, 9.77556412e-01, 7.99460644e-01,\n",
       "       9.25753925e-01, 1.00673880e-02, 6.86965177e-02, 9.42417011e-01,\n",
       "       1.55729379e-02, 1.70500299e-02, 8.89120285e-01, 5.52457039e-02,\n",
       "       3.38140639e-01, 2.53342573e-02, 6.03060796e-01, 2.05193494e-01,\n",
       "       5.92459341e-02, 2.05193494e-01, 1.29053307e-01, 5.47517844e-01,\n",
       "       9.28411968e-02, 8.26931536e-01, 8.72373456e-01, 9.67775426e-01,\n",
       "       9.25753925e-01, 1.89346799e-01, 3.67366479e-01, 9.92090846e-01,\n",
       "       2.46609331e-01, 8.73089299e-01, 3.41176975e-01, 9.02139269e-02,\n",
       "       1.46866647e-01, 9.79955867e-01, 7.19382701e-01, 1.46283051e-01,\n",
       "       9.79740387e-01, 1.01879390e-01, 6.76697208e-01, 3.45996686e-02,\n",
       "       2.52233422e-02, 2.25683590e-01, 5.84772589e-01, 9.82902799e-01,\n",
       "       9.95200563e-02, 6.31820154e-01, 7.98949310e-02, 2.69738730e-02,\n",
       "       6.70623312e-03, 1.69502034e-01, 1.18862694e-02, 5.89306661e-01,\n",
       "       3.94159718e-02, 6.08770301e-02, 6.80327555e-03, 4.49468992e-02,\n",
       "       7.00872357e-01, 7.03656477e-02, 9.41865075e-01, 3.61961589e-01,\n",
       "       9.74488732e-01, 6.10183723e-02, 2.56229457e-01, 9.26369440e-01,\n",
       "       1.46811911e-02, 3.48517556e-01, 7.19897265e-01, 2.05532354e-01,\n",
       "       9.01591561e-01, 1.07299845e-01, 4.27394231e-03, 1.84439664e-02,\n",
       "       9.23191579e-01, 9.94477545e-01, 7.30773122e-02, 6.86965177e-02,\n",
       "       4.85911466e-01, 6.40093224e-02, 2.61147391e-05, 9.49888858e-01,\n",
       "       9.44798738e-01, 5.51200294e-01, 1.04663768e-02, 7.85460121e-04,\n",
       "       4.74800955e-01, 6.94200719e-04, 5.10709215e-01, 6.86965177e-02,\n",
       "       7.66665041e-01, 2.06227153e-02, 7.81183421e-01, 9.72066287e-01,\n",
       "       1.03618137e-01, 5.11903691e-02, 1.43187972e-01, 3.36283641e-02,\n",
       "       9.89999568e-01, 3.67966640e-03, 9.41865075e-01, 8.36882530e-01,\n",
       "       3.57832819e-01, 4.49468992e-02, 9.97918080e-01, 4.49468992e-02,\n",
       "       2.05018844e-02, 2.44225250e-01, 1.82583787e-01, 5.90960202e-01,\n",
       "       2.38912464e-02, 3.82746447e-01, 3.30709042e-03, 9.32714701e-02,\n",
       "       3.78061092e-02, 2.36552868e-02, 9.42738265e-01, 1.19916214e-03,\n",
       "       2.23437196e-01, 5.16831811e-01, 9.58677483e-01, 9.67775426e-01,\n",
       "       9.37177519e-01, 4.41311727e-03, 9.15330785e-01, 9.20359828e-02,\n",
       "       1.24103270e-01, 5.20800059e-02, 3.02414720e-01, 9.97860619e-01,\n",
       "       5.36727659e-03, 2.73671710e-02, 4.42856120e-01, 1.91969314e-01,\n",
       "       2.61358469e-01, 1.42603048e-01, 3.96285998e-02, 3.67384250e-01,\n",
       "       9.03046781e-02, 6.29742552e-02, 4.02340375e-01, 5.47918615e-01,\n",
       "       3.57468286e-01, 4.51199168e-02, 5.95075129e-01, 1.19916214e-03,\n",
       "       6.23489864e-01, 8.50352362e-01, 1.91992378e-02, 3.82299934e-01,\n",
       "       6.86965177e-02, 9.42773673e-01, 5.19053720e-01, 1.43187972e-01,\n",
       "       7.93300497e-02, 8.51910847e-01, 3.62023818e-02, 1.01665978e-01,\n",
       "       4.91171857e-02, 9.72970592e-01, 8.18830142e-01, 1.55729379e-02,\n",
       "       7.72143587e-01, 5.85372287e-02, 1.99007220e-01, 5.58908403e-01,\n",
       "       3.45996686e-02, 9.20359828e-02, 6.67481044e-01, 2.23437196e-01,\n",
       "       2.29619118e-02, 2.18007792e-02, 9.25753925e-01, 8.08176834e-01,\n",
       "       9.78019501e-01, 3.79439489e-02, 1.51433879e-02, 9.01591561e-01,\n",
       "       7.04937854e-01, 9.72300006e-01, 1.55729379e-02, 9.26369440e-01,\n",
       "       5.68061266e-01, 4.22663491e-01, 5.49800801e-02, 5.90321109e-02,\n",
       "       7.52843785e-01, 9.72066287e-01, 3.86008503e-01, 9.97600620e-01,\n",
       "       9.42738265e-01, 5.48053905e-01, 2.59252383e-01, 7.31501608e-01,\n",
       "       6.48628644e-01, 8.45094677e-01, 1.78041062e-01, 4.03288537e-01,\n",
       "       6.86965177e-02, 1.46866647e-01, 1.77036820e-01, 8.89276618e-01,\n",
       "       1.15032309e-02, 6.86965177e-02, 9.26709061e-02, 9.75567000e-01,\n",
       "       1.85325115e-03, 9.49888858e-01, 9.03046781e-02, 9.18205785e-01,\n",
       "       7.10647634e-03, 8.65940915e-03])"
      ]
     },
     "execution_count": 37,
     "metadata": {},
     "output_type": "execute_result"
    }
   ],
   "source": [
    "# 將梯度提升樹+葉編碼+邏輯斯迴歸結果輸出\n",
    "pred_gdbt_lr = lr.predict_proba(onehot.transform(gdbt.apply(test_X)[:, :, 0]))[:, 1]\n",
    "pred_gdbt_lr"
   ]
  },
  {
   "cell_type": "code",
   "execution_count": 38,
   "metadata": {},
   "outputs": [
    {
     "data": {
      "text/plain": [
       "446"
      ]
     },
     "execution_count": 38,
     "metadata": {},
     "output_type": "execute_result"
    }
   ],
   "source": [
    "len(pred_gdbt_lr)"
   ]
  },
  {
   "cell_type": "code",
   "execution_count": 39,
   "metadata": {},
   "outputs": [],
   "source": [
    "# 將梯度提升樹+葉編碼+邏輯斯迴歸結果輸出\n",
    "pred_gdbt_lr = lr.predict_proba(onehot.transform(gdbt.apply(test_X)[:, :, 0]))[:, 1]\n",
    "fpr_gdbt_lr, tpr_gdbt_lr, _ = roc_curve(test_Y, pred_gdbt_lr)\n",
    "# 將梯度提升樹結果輸出\n",
    "pred_gdbt = gdbt.predict_proba(test_X)[:, 1]\n",
    "fpr_gdbt, tpr_gdbt, _ = roc_curve(test_Y, pred_gdbt)"
   ]
  },
  {
   "cell_type": "code",
   "execution_count": 40,
   "metadata": {},
   "outputs": [
    {
     "data": {
      "image/png": "[encoded data removed]",
      "text/plain": [
       "<Figure size 432x288 with 1 Axes>"
      ]
     },
     "metadata": {},
     "output_type": "display_data"
    }
   ],
   "source": [
    "import matplotlib.pyplot as plt\n",
    "# 將結果繪圖\n",
    "plt.plot([0, 1], [0, 1], 'k--')\n",
    "plt.plot(fpr_gdbt, tpr_gdbt, label='GDBT')\n",
    "plt.plot(fpr_gdbt_lr, tpr_gdbt_lr, label='GDBT + LR')\n",
    "plt.xlabel('False positive rate')\n",
    "plt.ylabel('True positive rate')\n",
    "plt.title('ROC curve')\n",
    "plt.legend(loc='best')\n",
    "plt.show()"
   ]
  },
  {
   "cell_type": "markdown",
   "metadata": {
    "collapsed": true
   },
   "source": [
    "# 作業1\n",
    "* 請對照範例，完成隨機森林的鐵達尼生存率預測，以及對應的葉編碼+邏輯斯迴歸\n",
    "\n",
    "# 作業2\n",
    "* 上述的結果，葉編碼是否有提高預測的正確性呢?"
   ]
  },
  {
   "cell_type": "code",
   "execution_count": null,
   "metadata": {
    "collapsed": true
   },
   "outputs": [],
   "source": []
  }
 ],
 "metadata": {
  "kernelspec": {
   "display_name": "Python 3",
   "language": "python",
   "name": "python3"
  },
  "language_info": {
   "codemirror_mode": {
    "name": "ipython",
    "version": 3
   },
   "file_extension": ".py",
   "mimetype": "text/x-python",
   "name": "python",
   "nbconvert_exporter": "python",
   "pygments_lexer": "ipython3",
   "version": "3.6.5"
  }
 },
 "nbformat": 4,
 "nbformat_minor": 2
}
