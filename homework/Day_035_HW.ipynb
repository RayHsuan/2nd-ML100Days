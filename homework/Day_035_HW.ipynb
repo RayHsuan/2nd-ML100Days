{
 "cells": [
  {
   "cell_type": "markdown",
   "metadata": {},
   "source": [
    "## 練習時間\n",
    "相信大家對回歸問題及分類問題都有初步的了解。今天的作業希望大家搜尋有關 multi-label 的案例問題。下圖是電影 \"奇異博士\" 的分類。可以看到同時有 \"Action\", \"Adventure\", \"Fantasy\" 的類別存在，代表這是個多標籤的問題。 "
   ]
  },
  {
   "cell_type": "markdown",
   "metadata": {},
   "source": [
    "![image](https://cdn-images-1.medium.com/max/1000/1*r0gYXMSQf5VhdMyl2bRDyg.png)"
   ]
  },
  {
   "cell_type": "markdown",
   "metadata": {},
   "source": [
    "## 請搜尋目標為多標籤問題 (Multi-label) 的機器學習案例，了解其資料來源、目標以及評估指標為何\n",
    "## Hint: 服飾"
   ]
  },
  {
   "cell_type": "markdown",
   "metadata": {},
   "source": [
    "https://towardsdatascience.com/journey-to-the-center-of-multi-label-classification-384c40229bff"
   ]
  },
  {
   "cell_type": "markdown",
   "metadata": {},
   "source": [
    "#https://towardsdatascience.com/multi-label-text-classification-with-scikit-learn-30714b7819c5\n",
    "Multi-class classification means a classification task with more than two classes; \n",
    "each label are mutually exclusive. The classification makes the assumption that each sample \n",
    "is assigned to one and only one label.\n",
    "\n",
    "On the other hand, Multi-label classification assigns to each sample a set of target labels. \n",
    "This can be thought as predicting properties of a data-point that are not mutually exclusive, \n",
    "such as Tim Horton are often categorized as both bakery and coffee shop. \n",
    "Multi-label text classification has many real world applications such as categorizing businesses on Yelp \n",
    "or classifying movies into one or more genre(s)."
   ]
  },
  {
   "cell_type": "markdown",
   "metadata": {},
   "source": [
    "根據網路上說明與此電影例子可以解釋成...\n",
    "多類別的分類問題 與 多標籤的貼標問題，前者是一部電影分為一種分類，例如劇情、動作、喜劇，\n",
    "而多標籤則是一部電影可以擁有多個標籤。\n",
    "目標是將一部電影的演員、介紹文做tfidf，利用該特徵與現有的分類 或 標籤，對新電影做類別的預測，或各種標籤的預測。\n",
    "評估指標可用Accuracy"
   ]
  }
 ],
 "metadata": {
  "kernelspec": {
   "display_name": "Python 3",
   "language": "python",
   "name": "python3"
  },
  "language_info": {
   "codemirror_mode": {
    "name": "ipython",
    "version": 3
   },
   "file_extension": ".py",
   "mimetype": "text/x-python",
   "name": "python",
   "nbconvert_exporter": "python",
   "pygments_lexer": "ipython3",
   "version": "3.5.6"
  }
 },
 "nbformat": 4,
 "nbformat_minor": 2
}
