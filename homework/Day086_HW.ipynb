{
 "cells": [
  {
   "cell_type": "markdown",
   "metadata": {},
   "source": [
    "## Work\n",
    "1. 試比較 save_best_only 與否的差異\n",
    "2. 請僅存入將 save_weights_only 設定為 True, 並嘗試 reset ipynb 並將模型與權重重新建回並預測 x_test"
   ]
  },
  {
   "cell_type": "code",
   "execution_count": 1,
   "metadata": {},
   "outputs": [
    {
     "name": "stderr",
     "output_type": "stream",
     "text": [
      "Using TensorFlow backend.\n"
     ]
    }
   ],
   "source": [
    "import os\n",
    "import keras\n",
    "\n",
    "# Disable GPU\n",
    "os.environ[\"CUDA_VISIBLE_DEVICES\"] = \"\""
   ]
  },
  {
   "cell_type": "code",
   "execution_count": 2,
   "metadata": {},
   "outputs": [],
   "source": [
    "train, test = keras.datasets.cifar10.load_data()"
   ]
  },
  {
   "cell_type": "code",
   "execution_count": 3,
   "metadata": {},
   "outputs": [],
   "source": [
    "## 資料前處理\n",
    "def preproc_x(x, flatten=True):\n",
    "    x = x / 255.\n",
    "    if flatten:\n",
    "        x = x.reshape((len(x), -1))\n",
    "    return x\n",
    "\n",
    "def preproc_y(y, num_classes=10):\n",
    "    if y.shape[-1] == 1:\n",
    "        y = keras.utils.to_categorical(y, num_classes)\n",
    "    return y    "
   ]
  },
  {
   "cell_type": "code",
   "execution_count": 4,
   "metadata": {},
   "outputs": [],
   "source": [
    "x_train, y_train = train\n",
    "x_test, y_test = test\n",
    "\n",
    "# Preproc the inputs\n",
    "x_train = preproc_x(x_train)\n",
    "x_test = preproc_x(x_test)\n",
    "\n",
    "# Preprc the outputs\n",
    "y_train = preproc_y(y_train)\n",
    "y_test = preproc_y(y_test)"
   ]
  },
  {
   "cell_type": "code",
   "execution_count": 5,
   "metadata": {},
   "outputs": [],
   "source": [
    "from keras.layers import BatchNormalization\n",
    "\n",
    "def build_mlp(input_shape, output_units=10, num_neurons=[512, 256, 128]):\n",
    "    \"\"\"Code Here\n",
    "    建立你的神經網路\n",
    "    \"\"\"\n",
    "    input_layer = keras.layers.Input(input_shape)\n",
    "    \n",
    "    for i, n_units in enumerate(num_neurons):\n",
    "        if i == 0:\n",
    "            x = keras.layers.Dense(units=n_units, activation=\"relu\", name=\"hidden_layer\"+str(i+1))(input_layer)\n",
    "            x = BatchNormalization()(x)\n",
    "        else:\n",
    "            x = keras.layers.Dense(units=n_units, activation=\"relu\", name=\"hidden_layer\"+str(i+1))(x)\n",
    "            x = BatchNormalization()(x)\n",
    "    \n",
    "    out = keras.layers.Dense(units=output_units, activation=\"softmax\", name=\"output\")(x)\n",
    "    \n",
    "    model = keras.models.Model(inputs=[input_layer], outputs=[out])\n",
    "    return model"
   ]
  },
  {
   "cell_type": "code",
   "execution_count": 6,
   "metadata": {},
   "outputs": [],
   "source": [
    "\"\"\"Code Here\n",
    "設定超參數\n",
    "\"\"\"\n",
    "LEARNING_RATE = 0.001\n",
    "EPOCHS = 50\n",
    "BATCH_SIZE = 1024\n",
    "MOMENTUM = 0.95"
   ]
  },
  {
   "cell_type": "code",
   "execution_count": 7,
   "metadata": {},
   "outputs": [],
   "source": [
    "from keras.callbacks import ModelCheckpoint\n",
    "# 載入 Callbacks\n",
    "\"\"\"Code Here\n",
    "設定 callbacks: model checkpoint\n",
    "\n",
    "\"\"\"\n",
    "\n",
    "#model_ckpt = ModelCheckpoint(filepath=\"./tmp.h5\",monitor=\"val_loss\",save_best_only=True)\n",
    "model_ckpt = ModelCheckpoint(filepath=\"./tmp.h5\",monitor=\"val_loss\",save_best_only=False)"
   ]
  },
  {
   "cell_type": "code",
   "execution_count": 8,
   "metadata": {},
   "outputs": [
    {
     "name": "stdout",
     "output_type": "stream",
     "text": [
      "WARNING:tensorflow:From C:\\Users\\User\\Anaconda3\\envs\\tensorflow\\lib\\site-packages\\tensorflow\\python\\framework\\op_def_library.py:263: colocate_with (from tensorflow.python.framework.ops) is deprecated and will be removed in a future version.\n",
      "Instructions for updating:\n",
      "Colocations handled automatically by placer.\n",
      "_________________________________________________________________\n",
      "Layer (type)                 Output Shape              Param #   \n",
      "=================================================================\n",
      "input_1 (InputLayer)         (None, 3072)              0         \n",
      "_________________________________________________________________\n",
      "hidden_layer1 (Dense)        (None, 512)               1573376   \n",
      "_________________________________________________________________\n",
      "batch_normalization_1 (Batch (None, 512)               2048      \n",
      "_________________________________________________________________\n",
      "hidden_layer2 (Dense)        (None, 256)               131328    \n",
      "_________________________________________________________________\n",
      "batch_normalization_2 (Batch (None, 256)               1024      \n",
      "_________________________________________________________________\n",
      "hidden_layer3 (Dense)        (None, 128)               32896     \n",
      "_________________________________________________________________\n",
      "batch_normalization_3 (Batch (None, 128)               512       \n",
      "_________________________________________________________________\n",
      "output (Dense)               (None, 10)                1290      \n",
      "=================================================================\n",
      "Total params: 1,742,474\n",
      "Trainable params: 1,740,682\n",
      "Non-trainable params: 1,792\n",
      "_________________________________________________________________\n",
      "WARNING:tensorflow:From C:\\Users\\User\\Anaconda3\\envs\\tensorflow\\lib\\site-packages\\tensorflow\\python\\ops\\math_ops.py:3066: to_int32 (from tensorflow.python.ops.math_ops) is deprecated and will be removed in a future version.\n",
      "Instructions for updating:\n",
      "Use tf.cast instead.\n",
      "Train on 50000 samples, validate on 10000 samples\n",
      "Epoch 1/50\n",
      "50000/50000 [==============================] - 4s 76us/step - loss: 2.2391 - acc: 0.2586 - val_loss: 2.1415 - val_acc: 0.3075\n",
      "Epoch 2/50\n",
      "50000/50000 [==============================] - 2s 32us/step - loss: 1.7620 - acc: 0.3870 - val_loss: 1.8055 - val_acc: 0.3778\n",
      "Epoch 3/50\n",
      "50000/50000 [==============================] - 2s 32us/step - loss: 1.6308 - acc: 0.4288 - val_loss: 1.7056 - val_acc: 0.4051\n",
      "Epoch 4/50\n",
      "50000/50000 [==============================] - 2s 32us/step - loss: 1.5563 - acc: 0.4566 - val_loss: 1.6415 - val_acc: 0.4254\n",
      "Epoch 5/50\n",
      "50000/50000 [==============================] - 2s 32us/step - loss: 1.5005 - acc: 0.4775 - val_loss: 1.6044 - val_acc: 0.4383\n",
      "Epoch 6/50\n",
      "50000/50000 [==============================] - 2s 32us/step - loss: 1.4552 - acc: 0.4929 - val_loss: 1.5763 - val_acc: 0.4496\n",
      "Epoch 7/50\n",
      "50000/50000 [==============================] - 2s 33us/step - loss: 1.4166 - acc: 0.5071 - val_loss: 1.5760 - val_acc: 0.4534\n",
      "Epoch 8/50\n",
      "50000/50000 [==============================] - 2s 32us/step - loss: 1.3797 - acc: 0.5212 - val_loss: 1.5378 - val_acc: 0.4634\n",
      "Epoch 9/50\n",
      "50000/50000 [==============================] - 2s 32us/step - loss: 1.3470 - acc: 0.5324 - val_loss: 1.5361 - val_acc: 0.4663\n",
      "Epoch 10/50\n",
      "50000/50000 [==============================] - 2s 32us/step - loss: 1.3167 - acc: 0.5435 - val_loss: 1.5175 - val_acc: 0.4690\n",
      "Epoch 11/50\n",
      "50000/50000 [==============================] - 2s 32us/step - loss: 1.2879 - acc: 0.5535 - val_loss: 1.5202 - val_acc: 0.4720\n",
      "Epoch 12/50\n",
      "50000/50000 [==============================] - 2s 32us/step - loss: 1.2622 - acc: 0.5638 - val_loss: 1.5026 - val_acc: 0.4757\n",
      "Epoch 13/50\n",
      "50000/50000 [==============================] - 2s 32us/step - loss: 1.2370 - acc: 0.5733 - val_loss: 1.5218 - val_acc: 0.4707\n",
      "Epoch 14/50\n",
      "50000/50000 [==============================] - 2s 32us/step - loss: 1.2097 - acc: 0.5829 - val_loss: 1.4835 - val_acc: 0.4824\n",
      "Epoch 15/50\n",
      "50000/50000 [==============================] - 2s 32us/step - loss: 1.1851 - acc: 0.5932 - val_loss: 1.4740 - val_acc: 0.4860\n",
      "Epoch 16/50\n",
      "50000/50000 [==============================] - 2s 33us/step - loss: 1.1615 - acc: 0.6022 - val_loss: 1.4888 - val_acc: 0.4801\n",
      "Epoch 17/50\n",
      "50000/50000 [==============================] - 2s 32us/step - loss: 1.1390 - acc: 0.6096 - val_loss: 1.4662 - val_acc: 0.4878\n",
      "Epoch 18/50\n",
      "50000/50000 [==============================] - 2s 32us/step - loss: 1.1152 - acc: 0.6192 - val_loss: 1.4706 - val_acc: 0.4860\n",
      "Epoch 19/50\n",
      "50000/50000 [==============================] - 2s 32us/step - loss: 1.0956 - acc: 0.6269 - val_loss: 1.4695 - val_acc: 0.4845\n",
      "Epoch 20/50\n",
      "50000/50000 [==============================] - 2s 32us/step - loss: 1.0715 - acc: 0.6361 - val_loss: 1.4761 - val_acc: 0.4869\n",
      "Epoch 21/50\n",
      "50000/50000 [==============================] - 2s 32us/step - loss: 1.0495 - acc: 0.6450 - val_loss: 1.4525 - val_acc: 0.4953\n",
      "Epoch 22/50\n",
      "50000/50000 [==============================] - 2s 33us/step - loss: 1.0279 - acc: 0.6521 - val_loss: 1.4639 - val_acc: 0.4922\n",
      "Epoch 23/50\n",
      "50000/50000 [==============================] - 2s 33us/step - loss: 1.0076 - acc: 0.6609 - val_loss: 1.4704 - val_acc: 0.4858\n",
      "Epoch 24/50\n",
      "50000/50000 [==============================] - 2s 32us/step - loss: 0.9853 - acc: 0.6682 - val_loss: 1.4645 - val_acc: 0.4910\n",
      "Epoch 25/50\n",
      "50000/50000 [==============================] - 2s 33us/step - loss: 0.9651 - acc: 0.6747 - val_loss: 1.4654 - val_acc: 0.4941\n",
      "Epoch 26/50\n",
      "50000/50000 [==============================] - 2s 32us/step - loss: 0.9453 - acc: 0.6835 - val_loss: 1.4855 - val_acc: 0.4894\n",
      "Epoch 27/50\n",
      "50000/50000 [==============================] - 2s 32us/step - loss: 0.9262 - acc: 0.6908 - val_loss: 1.4712 - val_acc: 0.4920\n",
      "Epoch 28/50\n",
      "50000/50000 [==============================] - 2s 32us/step - loss: 0.9054 - acc: 0.6995 - val_loss: 1.4859 - val_acc: 0.4870\n",
      "Epoch 29/50\n",
      "50000/50000 [==============================] - 2s 32us/step - loss: 0.8849 - acc: 0.7055 - val_loss: 1.4935 - val_acc: 0.4871\n",
      "Epoch 30/50\n",
      "50000/50000 [==============================] - 2s 32us/step - loss: 0.8657 - acc: 0.7147 - val_loss: 1.4876 - val_acc: 0.4985\n",
      "Epoch 31/50\n",
      "50000/50000 [==============================] - 2s 32us/step - loss: 0.8468 - acc: 0.7216 - val_loss: 1.4944 - val_acc: 0.4914\n",
      "Epoch 32/50\n",
      "50000/50000 [==============================] - 2s 32us/step - loss: 0.8257 - acc: 0.7293 - val_loss: 1.5158 - val_acc: 0.4867\n",
      "Epoch 33/50\n",
      "50000/50000 [==============================] - 2s 32us/step - loss: 0.8069 - acc: 0.7364 - val_loss: 1.5099 - val_acc: 0.4921\n",
      "Epoch 34/50\n",
      "50000/50000 [==============================] - 2s 32us/step - loss: 0.7868 - acc: 0.7456 - val_loss: 1.5124 - val_acc: 0.4921\n",
      "Epoch 35/50\n",
      "50000/50000 [==============================] - 2s 33us/step - loss: 0.7687 - acc: 0.7516 - val_loss: 1.5159 - val_acc: 0.4971\n",
      "Epoch 36/50\n",
      "50000/50000 [==============================] - 2s 32us/step - loss: 0.7496 - acc: 0.7595 - val_loss: 1.5292 - val_acc: 0.4898\n",
      "Epoch 37/50\n",
      "50000/50000 [==============================] - 2s 32us/step - loss: 0.7309 - acc: 0.7661 - val_loss: 1.5308 - val_acc: 0.4938\n",
      "Epoch 38/50\n",
      "50000/50000 [==============================] - 2s 32us/step - loss: 0.7117 - acc: 0.7736 - val_loss: 1.5455 - val_acc: 0.4906\n",
      "Epoch 39/50\n",
      "50000/50000 [==============================] - 2s 33us/step - loss: 0.6927 - acc: 0.7805 - val_loss: 1.5527 - val_acc: 0.4919\n",
      "Epoch 40/50\n",
      "50000/50000 [==============================] - 2s 32us/step - loss: 0.6762 - acc: 0.7869 - val_loss: 1.5495 - val_acc: 0.4940\n",
      "Epoch 41/50\n",
      "50000/50000 [==============================] - 2s 32us/step - loss: 0.6563 - acc: 0.7963 - val_loss: 1.5652 - val_acc: 0.4915\n",
      "Epoch 42/50\n",
      "50000/50000 [==============================] - 2s 32us/step - loss: 0.6372 - acc: 0.8034 - val_loss: 1.5732 - val_acc: 0.4936\n",
      "Epoch 43/50\n",
      "50000/50000 [==============================] - 2s 32us/step - loss: 0.6192 - acc: 0.8105 - val_loss: 1.5821 - val_acc: 0.4925\n",
      "Epoch 44/50\n",
      "50000/50000 [==============================] - 2s 33us/step - loss: 0.6025 - acc: 0.8180 - val_loss: 1.5939 - val_acc: 0.4920\n",
      "Epoch 45/50\n",
      "50000/50000 [==============================] - 2s 33us/step - loss: 0.5857 - acc: 0.8235 - val_loss: 1.5922 - val_acc: 0.4950\n",
      "Epoch 46/50\n",
      "50000/50000 [==============================] - 2s 32us/step - loss: 0.5681 - acc: 0.8320 - val_loss: 1.6179 - val_acc: 0.4929\n",
      "Epoch 47/50\n",
      "50000/50000 [==============================] - 2s 32us/step - loss: 0.5510 - acc: 0.8388 - val_loss: 1.6378 - val_acc: 0.4932\n",
      "Epoch 48/50\n",
      "50000/50000 [==============================] - 2s 32us/step - loss: 0.5348 - acc: 0.8454 - val_loss: 1.6308 - val_acc: 0.4950\n",
      "Epoch 49/50\n",
      "50000/50000 [==============================] - 2s 32us/step - loss: 0.5193 - acc: 0.8503 - val_loss: 1.6343 - val_acc: 0.4953\n",
      "Epoch 50/50\n",
      "50000/50000 [==============================] - 2s 32us/step - loss: 0.5011 - acc: 0.8582 - val_loss: 1.6576 - val_acc: 0.4944\n"
     ]
    }
   ],
   "source": [
    "model = build_mlp(input_shape=x_train.shape[1:])\n",
    "model.summary()\n",
    "\n",
    "optimizer = keras.optimizers.SGD(lr=LEARNING_RATE, nesterov=True, momentum=MOMENTUM)\n",
    "model.compile(loss=\"categorical_crossentropy\", metrics=[\"accuracy\"], optimizer = optimizer)\n",
    "\n",
    "model.fit(x_train,y_train,epochs=EPOCHS,batch_size=BATCH_SIZE,validation_data=(x_test,y_test),shuffle=True,callbacks=[model_ckpt])\n",
    "\n",
    "model.save(\"final_model.h5\")\n",
    "model.save_weights(\"model_weights.h5\")\n",
    "# Collect results\n",
    "train_loss = model.history.history[\"loss\"]\n",
    "valid_loss = model.history.history[\"val_loss\"]\n",
    "train_acc = model.history.history[\"acc\"]\n",
    "valid_acc = model.history.history[\"val_acc\"]\n",
    "\n",
    "pred_final = model.predict(x_test)\n",
    "# Load back\n",
    "model = keras.models.load_model(\"./tmp.h5\")\n",
    "pred_loadback = model.predict(x_test)"
   ]
  },
  {
   "cell_type": "code",
   "execution_count": 9,
   "metadata": {},
   "outputs": [
    {
     "name": "stdout",
     "output_type": "stream",
     "text": [
      "Accuracy of final weights: 0.494\n",
      "Accuracy of best weights: 0.494\n"
     ]
    }
   ],
   "source": [
    "from sklearn.metrics import accuracy_score\n",
    "\n",
    "final_model_acc = accuracy_score(y_true=y_test.argmax(axis=-1), y_pred=pred_final.argmax(axis=-1))\n",
    "loadback_acc = accuracy_score(y_true=y_test.argmax(axis=-1), y_pred=pred_loadback.argmax(axis=-1))\n",
    "\n",
    "print(\"Accuracy of final weights: %.3f\" % final_model_acc)\n",
    "print(\"Accuracy of best weights: %.3f\" % loadback_acc)"
   ]
  },
  {
   "cell_type": "code",
   "execution_count": 10,
   "metadata": {
    "scrolled": true
   },
   "outputs": [
    {
     "name": "stdout",
     "output_type": "stream",
     "text": [
      "Accuracy of best weights: 0.101\n",
      "Accuracy of best weights: 0.494\n"
     ]
    }
   ],
   "source": [
    "new_model = build_mlp(input_shape=x_train.shape[1:])\n",
    "new_model_pred = new_model.predict(x_test)\n",
    "new_model_acc = accuracy_score(y_true=y_test.argmax(axis=-1), y_pred=new_model_pred.argmax(axis=-1))\n",
    "print(\"Accuracy of best weights: %.3f\" % new_model_acc)\n",
    "\n",
    "new_model.load_weights(\"./model_weights.h5\")\n",
    "new_model_pred = new_model.predict(x_test)\n",
    "new_model_loadback_acc = accuracy_score(y_true=y_test.argmax(axis=-1), y_pred=new_model_pred.argmax(axis=-1))\n",
    "print(\"Accuracy of best weights: %.3f\" % new_model_loadback_acc)"
   ]
  }
 ],
 "metadata": {
  "kernelspec": {
   "display_name": "Python 3",
   "language": "python",
   "name": "python3"
  },
  "language_info": {
   "codemirror_mode": {
    "name": "ipython",
    "version": 3
   },
   "file_extension": ".py",
   "mimetype": "text/x-python",
   "name": "python",
   "nbconvert_exporter": "python",
   "pygments_lexer": "ipython3",
   "version": "3.7.3"
  }
 },
 "nbformat": 4,
 "nbformat_minor": 2
}
