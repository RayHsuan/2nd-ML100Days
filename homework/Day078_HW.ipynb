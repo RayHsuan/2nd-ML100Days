{
 "cells": [
  {
   "cell_type": "markdown",
   "metadata": {},
   "source": [
    "## Work\n",
    "1. 請嘗試將 preproc_x 替換成以每筆資料的 min/max 進行標準化至 -1 ~ 1 間，再進行訓練\n",
    "2. 請嘗試將 mlp 疊更深 (e.g 5~10 層)，進行訓練後觀察 learning curve 的走勢\n",
    "3. (optional) 請改用 GPU 進行訓練 (如果你有 GPU 的話)，比較使用 CPU 與 GPU 的訓練速度"
   ]
  },
  {
   "cell_type": "code",
   "execution_count": 1,
   "metadata": {},
   "outputs": [],
   "source": [
    "## \n",
    "\"\"\"\n",
    "Your code here (optional)\n",
    "確認硬體資源\n",
    "\"\"\"\n"
   ]
  },
  {
   "cell_type": "code",
   "execution_count": 1,
   "metadata": {},
   "outputs": [
    {
     "name": "stderr",
     "output_type": "stream",
     "text": [
      "Using TensorFlow backend.\n"
     ]
    }
   ],
   "source": [
    "import os\n",
    "import keras\n",
    "\n",
    "# 請嘗試設定 GPU：os.environ\n",
    "os.environ[\"CUDA_VISIBLE_DEVICES\"] = \"2\""
   ]
  },
  {
   "cell_type": "code",
   "execution_count": 2,
   "metadata": {},
   "outputs": [],
   "source": [
    "train, test = keras.datasets.cifar10.load_data()"
   ]
  },
  {
   "cell_type": "code",
   "execution_count": 3,
   "metadata": {},
   "outputs": [],
   "source": [
    "## 資料前處理\n",
    "\"\"\"\n",
    "Your code here\n",
    "\"\"\"\n",
    "def preproc_x(x, flatten=True):\n",
    "    x = ((x - x.min()) / (x.max() - x.min()))\n",
    "    if flatten:\n",
    "        x = x.reshape((len(x), -1))\n",
    "    return x\n",
    "\n",
    "def preproc_y(y, num_classes=10):\n",
    "    if y.shape[-1] == 1:\n",
    "        y = keras.utils.to_categorical(y, num_classes)\n",
    "    return y    "
   ]
  },
  {
   "cell_type": "code",
   "execution_count": 4,
   "metadata": {},
   "outputs": [],
   "source": [
    "x_train, y_train = train\n",
    "x_test, y_test = test"
   ]
  },
  {
   "cell_type": "code",
   "execution_count": 5,
   "metadata": {},
   "outputs": [],
   "source": [
    "# Preproc the inputs\n",
    "x_train = preproc_x(x_train)\n",
    "x_test = preproc_x(x_test)\n",
    "\n",
    "# Preprc the outputs\n",
    "y_train = preproc_y(y_train)\n",
    "y_test = preproc_y(y_test)"
   ]
  },
  {
   "cell_type": "code",
   "execution_count": 6,
   "metadata": {},
   "outputs": [],
   "source": [
    "\"\"\"Code Here\n",
    "建立你的神經網路\n",
    "\"\"\"\n",
    "def build_mlp(input_shape, output_units=10, num_neurons=[512, 256, 128, 64]):\n",
    "    input_layer = keras.layers.Input(input_shape)\n",
    "    \n",
    "    for i, n_units in enumerate(num_neurons):\n",
    "        if i == 0:\n",
    "            x = keras.layers.Dense(units=n_units, activation=\"relu\", name=\"hidden_layer\"+str(i+1))(input_layer)\n",
    "        else:\n",
    "            x = keras.layers.Dense(units=n_units, activation=\"relu\", name=\"hidden_layer\"+str(i+1))(x)\n",
    "    \n",
    "    out = keras.layers.Dense(units=output_units, activation=\"softmax\", name=\"output\")(x)\n",
    "    \n",
    "    model = keras.models.Model(inputs=[input_layer], outputs=[out])\n",
    "    return model"
   ]
  },
  {
   "cell_type": "code",
   "execution_count": 7,
   "metadata": {},
   "outputs": [
    {
     "name": "stdout",
     "output_type": "stream",
     "text": [
      "_________________________________________________________________\n",
      "Layer (type)                 Output Shape              Param #   \n",
      "=================================================================\n",
      "input_1 (InputLayer)         (None, 3072)              0         \n",
      "_________________________________________________________________\n",
      "hidden_layer1 (Dense)        (None, 512)               1573376   \n",
      "_________________________________________________________________\n",
      "hidden_layer2 (Dense)        (None, 256)               131328    \n",
      "_________________________________________________________________\n",
      "hidden_layer3 (Dense)        (None, 128)               32896     \n",
      "_________________________________________________________________\n",
      "hidden_layer4 (Dense)        (None, 64)                8256      \n",
      "_________________________________________________________________\n",
      "output (Dense)               (None, 10)                650       \n",
      "=================================================================\n",
      "Total params: 1,746,506\n",
      "Trainable params: 1,746,506\n",
      "Non-trainable params: 0\n",
      "_________________________________________________________________\n"
     ]
    }
   ],
   "source": [
    "model = build_mlp(input_shape=x_train.shape[1:])\n",
    "model.summary()"
   ]
  },
  {
   "cell_type": "code",
   "execution_count": 8,
   "metadata": {},
   "outputs": [],
   "source": [
    "## 超參數設定\n",
    "LEARNING_RATE = 0.001\n",
    "EPOCHS = 100\n",
    "BATCH_SIZE = 256"
   ]
  },
  {
   "cell_type": "code",
   "execution_count": 9,
   "metadata": {},
   "outputs": [],
   "source": [
    "optimizer = keras.optimizers.Adam(lr=LEARNING_RATE)\n",
    "model.compile(loss=\"categorical_crossentropy\", metrics=[\"accuracy\"], optimizer=optimizer)"
   ]
  },
  {
   "cell_type": "code",
   "execution_count": 10,
   "metadata": {},
   "outputs": [
    {
     "name": "stdout",
     "output_type": "stream",
     "text": [
      "Train on 50000 samples, validate on 10000 samples\n",
      "Epoch 1/100\n",
      "50000/50000 [==============================] - 16s 322us/step - loss: 1.9326 - acc: 0.2978 - val_loss: 1.7663 - val_acc: 0.3662\n",
      "Epoch 2/100\n",
      "50000/50000 [==============================] - 15s 297us/step - loss: 1.7037 - acc: 0.3876 - val_loss: 1.6493 - val_acc: 0.4118\n",
      "Epoch 3/100\n",
      "50000/50000 [==============================] - 14s 289us/step - loss: 1.6283 - acc: 0.4174 - val_loss: 1.6057 - val_acc: 0.4291\n",
      "Epoch 4/100\n",
      "50000/50000 [==============================] - 14s 288us/step - loss: 1.5638 - acc: 0.4375 - val_loss: 1.6021 - val_acc: 0.4232\n",
      "Epoch 5/100\n",
      "50000/50000 [==============================] - 14s 290us/step - loss: 1.5096 - acc: 0.4598 - val_loss: 1.5841 - val_acc: 0.4365\n",
      "Epoch 6/100\n",
      "50000/50000 [==============================] - 15s 292us/step - loss: 1.4727 - acc: 0.4728 - val_loss: 1.4691 - val_acc: 0.4791\n",
      "Epoch 7/100\n",
      "50000/50000 [==============================] - 14s 289us/step - loss: 1.4507 - acc: 0.4821 - val_loss: 1.4891 - val_acc: 0.4689\n",
      "Epoch 8/100\n",
      "50000/50000 [==============================] - 15s 290us/step - loss: 1.4153 - acc: 0.4938 - val_loss: 1.4425 - val_acc: 0.4890\n",
      "Epoch 9/100\n",
      "50000/50000 [==============================] - 14s 290us/step - loss: 1.3801 - acc: 0.5066 - val_loss: 1.4649 - val_acc: 0.4798\n",
      "Epoch 10/100\n",
      "50000/50000 [==============================] - 14s 289us/step - loss: 1.3556 - acc: 0.5162 - val_loss: 1.4177 - val_acc: 0.4955\n",
      "Epoch 11/100\n",
      "50000/50000 [==============================] - 14s 289us/step - loss: 1.3349 - acc: 0.5240 - val_loss: 1.4081 - val_acc: 0.4954\n",
      "Epoch 12/100\n",
      "50000/50000 [==============================] - 14s 289us/step - loss: 1.3153 - acc: 0.5297 - val_loss: 1.4227 - val_acc: 0.4924\n",
      "Epoch 13/100\n",
      "50000/50000 [==============================] - 15s 290us/step - loss: 1.2888 - acc: 0.5383 - val_loss: 1.4307 - val_acc: 0.4976\n",
      "Epoch 14/100\n",
      "50000/50000 [==============================] - 15s 290us/step - loss: 1.2610 - acc: 0.5502 - val_loss: 1.3936 - val_acc: 0.4992\n",
      "Epoch 15/100\n",
      "50000/50000 [==============================] - 14s 289us/step - loss: 1.2374 - acc: 0.5568 - val_loss: 1.4170 - val_acc: 0.5022\n",
      "Epoch 16/100\n",
      "50000/50000 [==============================] - 14s 289us/step - loss: 1.2087 - acc: 0.5682 - val_loss: 1.3765 - val_acc: 0.5153\n",
      "Epoch 17/100\n",
      "50000/50000 [==============================] - 14s 288us/step - loss: 1.1841 - acc: 0.5780 - val_loss: 1.3626 - val_acc: 0.5224\n",
      "Epoch 18/100\n",
      "50000/50000 [==============================] - 14s 289us/step - loss: 1.1740 - acc: 0.5804 - val_loss: 1.3955 - val_acc: 0.5091\n",
      "Epoch 19/100\n",
      "50000/50000 [==============================] - 14s 288us/step - loss: 1.1462 - acc: 0.5910 - val_loss: 1.3613 - val_acc: 0.5215\n",
      "Epoch 20/100\n",
      "50000/50000 [==============================] - 14s 290us/step - loss: 1.1370 - acc: 0.5941 - val_loss: 1.3454 - val_acc: 0.5285\n",
      "Epoch 21/100\n",
      "50000/50000 [==============================] - 14s 289us/step - loss: 1.1061 - acc: 0.6047 - val_loss: 1.3563 - val_acc: 0.5276\n",
      "Epoch 22/100\n",
      "50000/50000 [==============================] - 14s 287us/step - loss: 1.0929 - acc: 0.6099 - val_loss: 1.3427 - val_acc: 0.5312\n",
      "Epoch 23/100\n",
      "50000/50000 [==============================] - 14s 288us/step - loss: 1.0745 - acc: 0.6187 - val_loss: 1.3707 - val_acc: 0.5271\n",
      "Epoch 24/100\n",
      "50000/50000 [==============================] - 14s 288us/step - loss: 1.0510 - acc: 0.6237 - val_loss: 1.3970 - val_acc: 0.5180\n",
      "Epoch 25/100\n",
      "50000/50000 [==============================] - 15s 292us/step - loss: 1.0340 - acc: 0.6302 - val_loss: 1.4020 - val_acc: 0.5190\n",
      "Epoch 26/100\n",
      "50000/50000 [==============================] - 15s 294us/step - loss: 1.0165 - acc: 0.6355 - val_loss: 1.4257 - val_acc: 0.5183\n",
      "Epoch 27/100\n",
      "50000/50000 [==============================] - 16s 311us/step - loss: 0.9909 - acc: 0.6474 - val_loss: 1.4307 - val_acc: 0.5277\n",
      "Epoch 28/100\n",
      "50000/50000 [==============================] - 14s 285us/step - loss: 0.9789 - acc: 0.6485 - val_loss: 1.4078 - val_acc: 0.5252\n",
      "Epoch 29/100\n",
      "50000/50000 [==============================] - 14s 285us/step - loss: 0.9634 - acc: 0.6573 - val_loss: 1.4345 - val_acc: 0.5161\n",
      "Epoch 30/100\n",
      "50000/50000 [==============================] - 14s 286us/step - loss: 0.9429 - acc: 0.6629 - val_loss: 1.4364 - val_acc: 0.5210\n",
      "Epoch 31/100\n",
      "50000/50000 [==============================] - 14s 285us/step - loss: 0.9347 - acc: 0.6661 - val_loss: 1.4514 - val_acc: 0.5221\n",
      "Epoch 32/100\n",
      "50000/50000 [==============================] - 14s 286us/step - loss: 0.9111 - acc: 0.6736 - val_loss: 1.4761 - val_acc: 0.5225\n",
      "Epoch 33/100\n",
      "50000/50000 [==============================] - 14s 284us/step - loss: 0.8939 - acc: 0.6811 - val_loss: 1.4897 - val_acc: 0.5179\n",
      "Epoch 34/100\n",
      "50000/50000 [==============================] - 14s 284us/step - loss: 0.8852 - acc: 0.6843 - val_loss: 1.5005 - val_acc: 0.5217\n",
      "Epoch 35/100\n",
      "50000/50000 [==============================] - 14s 284us/step - loss: 0.8635 - acc: 0.6907 - val_loss: 1.5454 - val_acc: 0.5161\n",
      "Epoch 36/100\n",
      "50000/50000 [==============================] - 14s 286us/step - loss: 0.8473 - acc: 0.6959 - val_loss: 1.5049 - val_acc: 0.5291\n",
      "Epoch 37/100\n",
      "50000/50000 [==============================] - 14s 284us/step - loss: 0.8334 - acc: 0.7024 - val_loss: 1.5642 - val_acc: 0.5166\n",
      "Epoch 38/100\n",
      "50000/50000 [==============================] - 14s 285us/step - loss: 0.8113 - acc: 0.7129 - val_loss: 1.5446 - val_acc: 0.5317\n",
      "Epoch 39/100\n",
      "50000/50000 [==============================] - 14s 288us/step - loss: 0.7939 - acc: 0.7170 - val_loss: 1.6020 - val_acc: 0.5071\n",
      "Epoch 40/100\n",
      "50000/50000 [==============================] - 14s 285us/step - loss: 0.7774 - acc: 0.7231 - val_loss: 1.6055 - val_acc: 0.5204\n",
      "Epoch 41/100\n",
      "50000/50000 [==============================] - 14s 283us/step - loss: 0.7716 - acc: 0.7249 - val_loss: 1.5633 - val_acc: 0.5271\n",
      "Epoch 42/100\n",
      "50000/50000 [==============================] - 14s 285us/step - loss: 0.7505 - acc: 0.7312 - val_loss: 1.6331 - val_acc: 0.5170\n",
      "Epoch 43/100\n",
      "50000/50000 [==============================] - 14s 282us/step - loss: 0.7306 - acc: 0.7381 - val_loss: 1.6733 - val_acc: 0.5118\n",
      "Epoch 44/100\n",
      "50000/50000 [==============================] - 13s 266us/step - loss: 0.7215 - acc: 0.7422 - val_loss: 1.6490 - val_acc: 0.5221\n",
      "Epoch 45/100\n",
      "50000/50000 [==============================] - 13s 268us/step - loss: 0.6929 - acc: 0.7518 - val_loss: 1.6954 - val_acc: 0.5208\n",
      "Epoch 46/100\n",
      "50000/50000 [==============================] - 13s 268us/step - loss: 0.6924 - acc: 0.7516 - val_loss: 1.7564 - val_acc: 0.5126\n",
      "Epoch 47/100\n",
      "50000/50000 [==============================] - 13s 266us/step - loss: 0.6851 - acc: 0.7569 - val_loss: 1.7252 - val_acc: 0.5174\n",
      "Epoch 48/100\n",
      "50000/50000 [==============================] - 13s 267us/step - loss: 0.6684 - acc: 0.7618 - val_loss: 1.7118 - val_acc: 0.5158\n",
      "Epoch 49/100\n",
      "50000/50000 [==============================] - 13s 266us/step - loss: 0.6566 - acc: 0.7661 - val_loss: 1.7318 - val_acc: 0.5253\n",
      "Epoch 50/100\n",
      "50000/50000 [==============================] - 13s 267us/step - loss: 0.6454 - acc: 0.7700 - val_loss: 1.8105 - val_acc: 0.5209\n",
      "Epoch 51/100\n",
      "50000/50000 [==============================] - 13s 265us/step - loss: 0.6296 - acc: 0.7740 - val_loss: 1.8992 - val_acc: 0.5108\n",
      "Epoch 52/100\n",
      "50000/50000 [==============================] - 13s 262us/step - loss: 0.6179 - acc: 0.7787 - val_loss: 1.9061 - val_acc: 0.5165\n",
      "Epoch 53/100\n",
      "50000/50000 [==============================] - 13s 264us/step - loss: 0.6085 - acc: 0.7825 - val_loss: 1.9138 - val_acc: 0.5016\n",
      "Epoch 54/100\n",
      "50000/50000 [==============================] - 13s 262us/step - loss: 0.6106 - acc: 0.7820 - val_loss: 1.8594 - val_acc: 0.5161\n",
      "Epoch 55/100\n",
      "50000/50000 [==============================] - 13s 265us/step - loss: 0.5991 - acc: 0.7868 - val_loss: 2.0243 - val_acc: 0.5011\n",
      "Epoch 56/100\n",
      "50000/50000 [==============================] - 13s 265us/step - loss: 0.5958 - acc: 0.7857 - val_loss: 1.8700 - val_acc: 0.5166\n",
      "Epoch 57/100\n",
      "50000/50000 [==============================] - 13s 258us/step - loss: 0.5557 - acc: 0.8026 - val_loss: 1.9892 - val_acc: 0.5139\n",
      "Epoch 58/100\n"
     ]
    },
    {
     "name": "stdout",
     "output_type": "stream",
     "text": [
      "50000/50000 [==============================] - 13s 264us/step - loss: 0.5561 - acc: 0.8019 - val_loss: 1.9662 - val_acc: 0.5174\n",
      "Epoch 59/100\n",
      "50000/50000 [==============================] - 14s 274us/step - loss: 0.5322 - acc: 0.8108 - val_loss: 2.0647 - val_acc: 0.5069\n",
      "Epoch 60/100\n",
      "50000/50000 [==============================] - 14s 272us/step - loss: 0.5444 - acc: 0.8048 - val_loss: 2.0296 - val_acc: 0.5117\n",
      "Epoch 61/100\n",
      "50000/50000 [==============================] - 14s 273us/step - loss: 0.5311 - acc: 0.8102 - val_loss: 2.1052 - val_acc: 0.5074\n",
      "Epoch 62/100\n",
      "50000/50000 [==============================] - 14s 274us/step - loss: 0.5194 - acc: 0.8157 - val_loss: 2.0773 - val_acc: 0.5112\n",
      "Epoch 63/100\n",
      "50000/50000 [==============================] - 13s 270us/step - loss: 0.4982 - acc: 0.8226 - val_loss: 2.1031 - val_acc: 0.5148\n",
      "Epoch 64/100\n",
      "50000/50000 [==============================] - 14s 272us/step - loss: 0.4965 - acc: 0.8227 - val_loss: 2.2031 - val_acc: 0.5073\n",
      "Epoch 65/100\n",
      "50000/50000 [==============================] - 14s 274us/step - loss: 0.5075 - acc: 0.8184 - val_loss: 2.2039 - val_acc: 0.5102\n",
      "Epoch 66/100\n",
      "50000/50000 [==============================] - 14s 270us/step - loss: 0.4774 - acc: 0.8285 - val_loss: 2.2307 - val_acc: 0.5041\n",
      "Epoch 67/100\n",
      "50000/50000 [==============================] - 14s 279us/step - loss: 0.4855 - acc: 0.8267 - val_loss: 2.2781 - val_acc: 0.5055\n",
      "Epoch 68/100\n",
      "50000/50000 [==============================] - 15s 291us/step - loss: 0.4575 - acc: 0.8369 - val_loss: 2.2932 - val_acc: 0.5060\n",
      "Epoch 69/100\n",
      "50000/50000 [==============================] - 12s 234us/step - loss: 0.4615 - acc: 0.8336 - val_loss: 2.3444 - val_acc: 0.5110\n",
      "Epoch 70/100\n",
      "50000/50000 [==============================] - 12s 233us/step - loss: 0.4696 - acc: 0.8333 - val_loss: 2.3153 - val_acc: 0.5028\n",
      "Epoch 71/100\n",
      "50000/50000 [==============================] - 12s 233us/step - loss: 0.4492 - acc: 0.8391 - val_loss: 2.4083 - val_acc: 0.5056\n",
      "Epoch 72/100\n",
      "50000/50000 [==============================] - 12s 234us/step - loss: 0.4588 - acc: 0.8353 - val_loss: 2.3967 - val_acc: 0.5045\n",
      "Epoch 73/100\n",
      "50000/50000 [==============================] - 12s 233us/step - loss: 0.4338 - acc: 0.8445 - val_loss: 2.3860 - val_acc: 0.5066\n",
      "Epoch 74/100\n",
      "50000/50000 [==============================] - 12s 235us/step - loss: 0.4308 - acc: 0.8461 - val_loss: 2.3850 - val_acc: 0.5013\n",
      "Epoch 75/100\n",
      "50000/50000 [==============================] - 12s 233us/step - loss: 0.4282 - acc: 0.8463 - val_loss: 2.4416 - val_acc: 0.4945\n",
      "Epoch 76/100\n",
      "50000/50000 [==============================] - 12s 236us/step - loss: 0.4161 - acc: 0.8507 - val_loss: 2.4897 - val_acc: 0.5013\n",
      "Epoch 77/100\n",
      "50000/50000 [==============================] - 12s 235us/step - loss: 0.4082 - acc: 0.8527 - val_loss: 2.5185 - val_acc: 0.5017\n",
      "Epoch 78/100\n",
      "50000/50000 [==============================] - 12s 234us/step - loss: 0.4009 - acc: 0.8533 - val_loss: 2.5142 - val_acc: 0.5090\n",
      "Epoch 79/100\n",
      "50000/50000 [==============================] - 12s 233us/step - loss: 0.4131 - acc: 0.8514 - val_loss: 2.5496 - val_acc: 0.5043\n",
      "Epoch 80/100\n",
      "50000/50000 [==============================] - 12s 233us/step - loss: 0.4116 - acc: 0.8533 - val_loss: 2.5733 - val_acc: 0.5030\n",
      "Epoch 81/100\n",
      "50000/50000 [==============================] - 12s 233us/step - loss: 0.3972 - acc: 0.8567 - val_loss: 2.5528 - val_acc: 0.5108\n",
      "Epoch 82/100\n",
      "50000/50000 [==============================] - 12s 234us/step - loss: 0.3703 - acc: 0.8673 - val_loss: 2.6351 - val_acc: 0.5094\n",
      "Epoch 83/100\n",
      "50000/50000 [==============================] - 12s 233us/step - loss: 0.3794 - acc: 0.8645 - val_loss: 2.5899 - val_acc: 0.5085\n",
      "Epoch 84/100\n",
      "50000/50000 [==============================] - 12s 237us/step - loss: 0.3752 - acc: 0.8640 - val_loss: 2.6600 - val_acc: 0.5108\n",
      "Epoch 85/100\n",
      "50000/50000 [==============================] - 12s 233us/step - loss: 0.3732 - acc: 0.8664 - val_loss: 2.6231 - val_acc: 0.5098\n",
      "Epoch 86/100\n",
      "50000/50000 [==============================] - 12s 237us/step - loss: 0.3771 - acc: 0.8623 - val_loss: 2.6848 - val_acc: 0.4974\n",
      "Epoch 87/100\n",
      "50000/50000 [==============================] - 12s 235us/step - loss: 0.3773 - acc: 0.8633 - val_loss: 2.8510 - val_acc: 0.4943\n",
      "Epoch 88/100\n",
      "50000/50000 [==============================] - 12s 239us/step - loss: 0.3743 - acc: 0.8642 - val_loss: 2.7723 - val_acc: 0.4972\n",
      "Epoch 89/100\n",
      "50000/50000 [==============================] - 12s 234us/step - loss: 0.3542 - acc: 0.8746 - val_loss: 2.7568 - val_acc: 0.5060\n",
      "Epoch 90/100\n",
      "50000/50000 [==============================] - 12s 232us/step - loss: 0.3481 - acc: 0.8763 - val_loss: 2.8978 - val_acc: 0.4877\n",
      "Epoch 91/100\n",
      "50000/50000 [==============================] - 12s 232us/step - loss: 0.3425 - acc: 0.8785 - val_loss: 2.8296 - val_acc: 0.5035\n",
      "Epoch 92/100\n",
      "50000/50000 [==============================] - 12s 232us/step - loss: 0.3396 - acc: 0.8780 - val_loss: 2.8190 - val_acc: 0.5065\n",
      "Epoch 93/100\n",
      "50000/50000 [==============================] - 12s 232us/step - loss: 0.3444 - acc: 0.8776 - val_loss: 2.8637 - val_acc: 0.4963\n",
      "Epoch 94/100\n",
      "50000/50000 [==============================] - 12s 232us/step - loss: 0.3378 - acc: 0.8786 - val_loss: 2.9099 - val_acc: 0.4939\n",
      "Epoch 95/100\n",
      "50000/50000 [==============================] - 12s 233us/step - loss: 0.3164 - acc: 0.8867 - val_loss: 2.9451 - val_acc: 0.4995\n",
      "Epoch 96/100\n",
      "50000/50000 [==============================] - 12s 235us/step - loss: 0.3111 - acc: 0.8887 - val_loss: 2.9357 - val_acc: 0.5012\n",
      "Epoch 97/100\n",
      "50000/50000 [==============================] - 12s 233us/step - loss: 0.3111 - acc: 0.8879 - val_loss: 3.0704 - val_acc: 0.4988\n",
      "Epoch 98/100\n",
      "50000/50000 [==============================] - 12s 234us/step - loss: 0.3034 - acc: 0.8913 - val_loss: 2.9917 - val_acc: 0.4914\n",
      "Epoch 99/100\n",
      "50000/50000 [==============================] - 12s 234us/step - loss: 0.3339 - acc: 0.8799 - val_loss: 2.9839 - val_acc: 0.5022\n",
      "Epoch 100/100\n",
      "50000/50000 [==============================] - 11s 228us/step - loss: 0.3390 - acc: 0.8788 - val_loss: 3.0163 - val_acc: 0.4945\n"
     ]
    },
    {
     "data": {
      "text/plain": [
       "<keras.callbacks.History at 0x1afb1a89a58>"
      ]
     },
     "execution_count": 10,
     "metadata": {},
     "output_type": "execute_result"
    }
   ],
   "source": [
    "model.fit(x_train, y_train, \n",
    "          epochs=EPOCHS, \n",
    "          batch_size=BATCH_SIZE, \n",
    "          validation_data=(x_test, y_test), \n",
    "          shuffle=True)"
   ]
  },
  {
   "cell_type": "code",
   "execution_count": 12,
   "metadata": {},
   "outputs": [
    {
     "data": {
      "image/png": "[encoded data removed]",
      "text/plain": [
       "<Figure size 432x288 with 1 Axes>"
      ]
     },
     "metadata": {
      "needs_background": "light"
     },
     "output_type": "display_data"
    },
    {
     "data": {
      "image/png": "[encoded data removed]",
      "text/plain": [
       "<Figure size 432x288 with 1 Axes>"
      ]
     },
     "metadata": {
      "needs_background": "light"
     },
     "output_type": "display_data"
    }
   ],
   "source": [
    "import matplotlib.pyplot as plt\n",
    "\n",
    "\n",
    "train_loss = model.history.history[\"loss\"]\n",
    "valid_loss = model.history.history[\"val_loss\"]\n",
    "\n",
    "train_acc = model.history.history[\"acc\"]\n",
    "valid_acc = model.history.history[\"val_acc\"]\n",
    "\n",
    "plt.plot(range(len(train_loss)), train_loss, label=\"train loss\")\n",
    "plt.plot(range(len(valid_loss)), valid_loss, label=\"valid loss\")\n",
    "plt.legend()\n",
    "plt.title(\"Loss\")\n",
    "plt.show()\n",
    "\n",
    "plt.plot(range(len(train_acc)), train_acc, label=\"train accuracy\")\n",
    "plt.plot(range(len(valid_acc)), valid_acc, label=\"valid accuracy\")\n",
    "plt.legend()\n",
    "plt.title(\"Accuracy\")\n",
    "plt.show()"
   ]
  }
 ],
 "metadata": {
  "kernelspec": {
   "display_name": "Python 3",
   "language": "python",
   "name": "python3"
  },
  "language_info": {
   "codemirror_mode": {
    "name": "ipython",
    "version": 3
   },
   "file_extension": ".py",
   "mimetype": "text/x-python",
   "name": "python",
   "nbconvert_exporter": "python",
   "pygments_lexer": "ipython3",
   "version": "3.5.6"
  }
 },
 "nbformat": 4,
 "nbformat_minor": 2
}
