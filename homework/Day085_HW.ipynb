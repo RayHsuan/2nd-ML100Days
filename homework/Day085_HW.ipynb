{
 "cells": [
  {
   "cell_type": "markdown",
   "metadata": {},
   "source": [
    "## Work\n",
    "1. 試改變 monitor \"Validation Accuracy\" 並比較結果\n",
    "2. 調整 earlystop 的等待次數至 10, 25 並比較結果"
   ]
  },
  {
   "cell_type": "code",
   "execution_count": 1,
   "metadata": {},
   "outputs": [
    {
     "name": "stderr",
     "output_type": "stream",
     "text": [
      "Using TensorFlow backend.\n"
     ]
    }
   ],
   "source": [
    "import os\n",
    "import keras\n",
    "\n",
    "# Disable GPU\n",
    "os.environ[\"CUDA_VISIBLE_DEVICES\"] = \"\""
   ]
  },
  {
   "cell_type": "code",
   "execution_count": 2,
   "metadata": {},
   "outputs": [],
   "source": [
    "train, test = keras.datasets.cifar10.load_data()"
   ]
  },
  {
   "cell_type": "code",
   "execution_count": 3,
   "metadata": {},
   "outputs": [],
   "source": [
    "## 資料前處理\n",
    "def preproc_x(x, flatten=True):\n",
    "    x = x / 255.\n",
    "    if flatten:\n",
    "        x = x.reshape((len(x), -1))\n",
    "    return x\n",
    "\n",
    "def preproc_y(y, num_classes=10):\n",
    "    if y.shape[-1] == 1:\n",
    "        y = keras.utils.to_categorical(y, num_classes)\n",
    "    return y    "
   ]
  },
  {
   "cell_type": "code",
   "execution_count": 4,
   "metadata": {},
   "outputs": [],
   "source": [
    "x_train, y_train = train\n",
    "x_test, y_test = test\n",
    "\n",
    "# Preproc the inputs\n",
    "x_train = preproc_x(x_train)\n",
    "x_test = preproc_x(x_test)\n",
    "\n",
    "# Preprc the outputs\n",
    "y_train = preproc_y(y_train)\n",
    "y_test = preproc_y(y_test)"
   ]
  },
  {
   "cell_type": "code",
   "execution_count": 5,
   "metadata": {},
   "outputs": [],
   "source": [
    "from keras.layers import BatchNormalization\n",
    "\n",
    "def build_mlp(input_shape, output_units=10, num_neurons=[512, 256, 128]):\n",
    "    \"\"\"Code Here\n",
    "    建立你的神經網路\n",
    "    \"\"\"\n",
    "    input_layer = keras.layers.Input(input_shape)\n",
    "    \n",
    "    for i, n_units in enumerate(num_neurons):\n",
    "        if i == 0:\n",
    "            x = keras.layers.Dense(units=n_units, \n",
    "                                   activation=\"relu\", \n",
    "                                   name=\"hidden_layer\"+str(i+1))(input_layer)\n",
    "            x = BatchNormalization()(x)\n",
    "        else:\n",
    "            x = keras.layers.Dense(units=n_units, \n",
    "                                   activation=\"relu\", \n",
    "                                   name=\"hidden_layer\"+str(i+1))(x)\n",
    "            x = BatchNormalization()(x)\n",
    "    \n",
    "    out = keras.layers.Dense(units=output_units, activation=\"softmax\", name=\"output\")(x)\n",
    "    \n",
    "    model = keras.models.Model(inputs=[input_layer], outputs=[out])\n",
    "    return model"
   ]
  },
  {
   "cell_type": "code",
   "execution_count": 7,
   "metadata": {},
   "outputs": [],
   "source": [
    "\"\"\"Code Here\n",
    "設定超參數\n",
    "\"\"\"\n",
    "LEARNING_RATE = 0.001\n",
    "EPOCHS = 50\n",
    "BATCH_SIZE = 1024\n",
    "MOMENTUM = 0.95"
   ]
  },
  {
   "cell_type": "code",
   "execution_count": 8,
   "metadata": {},
   "outputs": [
    {
     "name": "stdout",
     "output_type": "stream",
     "text": [
      "_________________________________________________________________\n",
      "Layer (type)                 Output Shape              Param #   \n",
      "=================================================================\n",
      "input_2 (InputLayer)         (None, 3072)              0         \n",
      "_________________________________________________________________\n",
      "hidden_layer1 (Dense)        (None, 512)               1573376   \n",
      "_________________________________________________________________\n",
      "batch_normalization_4 (Batch (None, 512)               2048      \n",
      "_________________________________________________________________\n",
      "hidden_layer2 (Dense)        (None, 256)               131328    \n",
      "_________________________________________________________________\n",
      "batch_normalization_5 (Batch (None, 256)               1024      \n",
      "_________________________________________________________________\n",
      "hidden_layer3 (Dense)        (None, 128)               32896     \n",
      "_________________________________________________________________\n",
      "batch_normalization_6 (Batch (None, 128)               512       \n",
      "_________________________________________________________________\n",
      "output (Dense)               (None, 10)                1290      \n",
      "=================================================================\n",
      "Total params: 1,742,474\n",
      "Trainable params: 1,740,682\n",
      "Non-trainable params: 1,792\n",
      "_________________________________________________________________\n",
      "WARNING:tensorflow:From C:\\Users\\User\\Anaconda3\\envs\\tensorflow\\lib\\site-packages\\tensorflow\\python\\ops\\math_ops.py:3066: to_int32 (from tensorflow.python.ops.math_ops) is deprecated and will be removed in a future version.\n",
      "Instructions for updating:\n",
      "Use tf.cast instead.\n",
      "Train on 50000 samples, validate on 10000 samples\n",
      "Epoch 1/50\n",
      "50000/50000 [==============================] - 4s 80us/step - loss: 2.1928 - acc: 0.2754 - val_loss: 2.0007 - val_acc: 0.3367\n",
      "Epoch 2/50\n",
      "50000/50000 [==============================] - 2s 32us/step - loss: 1.7357 - acc: 0.3961 - val_loss: 1.8114 - val_acc: 0.3817\n",
      "Epoch 3/50\n",
      "50000/50000 [==============================] - 2s 33us/step - loss: 1.6108 - acc: 0.4350 - val_loss: 1.6855 - val_acc: 0.4164\n",
      "Epoch 4/50\n",
      "50000/50000 [==============================] - 2s 32us/step - loss: 1.5375 - acc: 0.4597 - val_loss: 1.6499 - val_acc: 0.4241\n",
      "Epoch 5/50\n",
      "50000/50000 [==============================] - 2s 32us/step - loss: 1.4829 - acc: 0.4820 - val_loss: 1.5914 - val_acc: 0.4462\n",
      "Epoch 6/50\n",
      "50000/50000 [==============================] - 2s 32us/step - loss: 1.4374 - acc: 0.4991 - val_loss: 1.5643 - val_acc: 0.4490\n",
      "Epoch 7/50\n",
      "50000/50000 [==============================] - 2s 32us/step - loss: 1.4009 - acc: 0.5112 - val_loss: 1.5516 - val_acc: 0.4541\n",
      "Epoch 8/50\n",
      "50000/50000 [==============================] - 2s 32us/step - loss: 1.3663 - acc: 0.5244 - val_loss: 1.5296 - val_acc: 0.4596\n",
      "Epoch 9/50\n",
      "50000/50000 [==============================] - 2s 32us/step - loss: 1.3345 - acc: 0.5340 - val_loss: 1.5117 - val_acc: 0.4645\n",
      "Epoch 10/50\n",
      "50000/50000 [==============================] - 2s 32us/step - loss: 1.3050 - acc: 0.5454 - val_loss: 1.5143 - val_acc: 0.4635\n",
      "Epoch 11/50\n",
      "50000/50000 [==============================] - 2s 33us/step - loss: 1.2772 - acc: 0.5558 - val_loss: 1.5050 - val_acc: 0.4698\n",
      "Epoch 12/50\n",
      "50000/50000 [==============================] - 2s 33us/step - loss: 1.2520 - acc: 0.5647 - val_loss: 1.4864 - val_acc: 0.4730\n",
      "Epoch 13/50\n",
      "50000/50000 [==============================] - 2s 32us/step - loss: 1.2257 - acc: 0.5762 - val_loss: 1.4678 - val_acc: 0.4790\n",
      "Epoch 14/50\n",
      "50000/50000 [==============================] - 2s 33us/step - loss: 1.1999 - acc: 0.5849 - val_loss: 1.4796 - val_acc: 0.4782\n",
      "Epoch 15/50\n",
      "50000/50000 [==============================] - 2s 33us/step - loss: 1.1753 - acc: 0.5944 - val_loss: 1.4633 - val_acc: 0.4834\n",
      "Epoch 16/50\n",
      "50000/50000 [==============================] - 2s 32us/step - loss: 1.1539 - acc: 0.6006 - val_loss: 1.4731 - val_acc: 0.4807\n",
      "Epoch 17/50\n",
      "50000/50000 [==============================] - 2s 33us/step - loss: 1.1308 - acc: 0.6114 - val_loss: 1.4510 - val_acc: 0.4874\n",
      "Epoch 18/50\n",
      "50000/50000 [==============================] - 2s 33us/step - loss: 1.1084 - acc: 0.6188 - val_loss: 1.4557 - val_acc: 0.4869\n",
      "Epoch 19/50\n",
      "50000/50000 [==============================] - 2s 32us/step - loss: 1.0847 - acc: 0.6288 - val_loss: 1.4669 - val_acc: 0.4866\n",
      "Epoch 20/50\n",
      "50000/50000 [==============================] - 2s 33us/step - loss: 1.0650 - acc: 0.6354 - val_loss: 1.4591 - val_acc: 0.4850\n",
      "Epoch 21/50\n",
      "50000/50000 [==============================] - 2s 32us/step - loss: 1.0431 - acc: 0.6453 - val_loss: 1.4521 - val_acc: 0.4867\n",
      "Epoch 22/50\n",
      "50000/50000 [==============================] - 2s 33us/step - loss: 1.0217 - acc: 0.6521 - val_loss: 1.4520 - val_acc: 0.4882\n",
      "Epoch 23/50\n",
      "50000/50000 [==============================] - 2s 33us/step - loss: 1.0030 - acc: 0.6590 - val_loss: 1.4610 - val_acc: 0.4863\n",
      "Epoch 24/50\n",
      "50000/50000 [==============================] - 2s 32us/step - loss: 0.9824 - acc: 0.6671 - val_loss: 1.4657 - val_acc: 0.4926\n",
      "Epoch 25/50\n",
      "50000/50000 [==============================] - 2s 32us/step - loss: 0.9613 - acc: 0.6751 - val_loss: 1.4718 - val_acc: 0.4869\n",
      "Epoch 26/50\n",
      "50000/50000 [==============================] - 2s 33us/step - loss: 0.9430 - acc: 0.6825 - val_loss: 1.4818 - val_acc: 0.4805\n",
      "Epoch 27/50\n",
      "50000/50000 [==============================] - 2s 33us/step - loss: 0.9221 - acc: 0.6919 - val_loss: 1.4739 - val_acc: 0.4892\n",
      "Epoch 28/50\n",
      "50000/50000 [==============================] - 2s 33us/step - loss: 0.9020 - acc: 0.6987 - val_loss: 1.4805 - val_acc: 0.4906\n",
      "Epoch 29/50\n",
      "50000/50000 [==============================] - 2s 32us/step - loss: 0.8813 - acc: 0.7071 - val_loss: 1.4950 - val_acc: 0.4875\n",
      "Epoch 30/50\n",
      "50000/50000 [==============================] - 2s 32us/step - loss: 0.8620 - acc: 0.7145 - val_loss: 1.4909 - val_acc: 0.4907\n",
      "Epoch 31/50\n",
      "50000/50000 [==============================] - 2s 32us/step - loss: 0.8422 - acc: 0.7227 - val_loss: 1.4940 - val_acc: 0.4896\n",
      "Epoch 32/50\n",
      "50000/50000 [==============================] - 2s 33us/step - loss: 0.8228 - acc: 0.7292 - val_loss: 1.4973 - val_acc: 0.4894\n",
      "Epoch 33/50\n",
      "50000/50000 [==============================] - 2s 33us/step - loss: 0.8042 - acc: 0.7387 - val_loss: 1.5103 - val_acc: 0.4899\n",
      "Epoch 34/50\n",
      "50000/50000 [==============================] - 2s 32us/step - loss: 0.7855 - acc: 0.7449 - val_loss: 1.5115 - val_acc: 0.4909\n",
      "Epoch 00034: early stopping\n"
     ]
    },
    {
     "data": {
      "image/png": "[encoded data removed]",
      "text/plain": [
       "<Figure size 432x288 with 1 Axes>"
      ]
     },
     "metadata": {
      "needs_background": "light"
     },
     "output_type": "display_data"
    },
    {
     "data": {
      "image/png": "[encoded data removed]",
      "text/plain": [
       "<Figure size 432x288 with 1 Axes>"
      ]
     },
     "metadata": {
      "needs_background": "light"
     },
     "output_type": "display_data"
    },
    {
     "data": {
      "text/plain": [
       "'Code Here\\n撰寫你的訓練流程並將結果用 dictionary 紀錄\\n'"
      ]
     },
     "execution_count": 8,
     "metadata": {},
     "output_type": "execute_result"
    }
   ],
   "source": [
    "from keras.callbacks import EarlyStopping\n",
    "# 載入 Callbacks\n",
    "\"\"\"Code Here\n",
    "設定 callbacks: Earlystop\n",
    "\"\"\"\n",
    "earlystop = EarlyStopping(monitor=\"val_acc\", patience=10, verbose=1)\n",
    "\n",
    "model = build_mlp(input_shape=x_train.shape[1:])\n",
    "model.summary()\n",
    "optimizer = keras.optimizers.SGD(lr=LEARNING_RATE, nesterov=True, momentum=MOMENTUM)\n",
    "model.compile(loss=\"categorical_crossentropy\", metrics=[\"accuracy\"], optimizer=optimizer)\n",
    "\n",
    "model.fit(x_train, y_train, epochs=EPOCHS, batch_size=BATCH_SIZE, validation_data=(x_test, y_test)\n",
    "          , shuffle=True,callbacks=[earlystop])\n",
    "\n",
    "# Collect results\n",
    "train_loss = model.history.history[\"loss\"]\n",
    "valid_loss = model.history.history[\"val_loss\"]\n",
    "train_acc = model.history.history[\"acc\"]\n",
    "valid_acc = model.history.history[\"val_acc\"]\n",
    "\n",
    "plt.plot(range(len(train_loss)), train_loss, label=\"train loss\")\n",
    "plt.plot(range(len(valid_loss)), valid_loss, label=\"valid loss\")\n",
    "plt.legend()\n",
    "plt.title(\"Loss\")\n",
    "plt.show()\n",
    "\n",
    "plt.plot(range(len(train_acc)), train_acc, label=\"train accuracy\")\n",
    "plt.plot(range(len(valid_acc)), valid_acc, label=\"valid accuracy\")\n",
    "plt.legend()\n",
    "plt.title(\"Accuracy\")\n",
    "plt.show()\n"
   ]
  },
  {
   "cell_type": "code",
   "execution_count": 10,
   "metadata": {},
   "outputs": [
    {
     "name": "stdout",
     "output_type": "stream",
     "text": [
      "_________________________________________________________________\n",
      "Layer (type)                 Output Shape              Param #   \n",
      "=================================================================\n",
      "input_4 (InputLayer)         (None, 3072)              0         \n",
      "_________________________________________________________________\n",
      "hidden_layer1 (Dense)        (None, 512)               1573376   \n",
      "_________________________________________________________________\n",
      "batch_normalization_10 (Batc (None, 512)               2048      \n",
      "_________________________________________________________________\n",
      "hidden_layer2 (Dense)        (None, 256)               131328    \n",
      "_________________________________________________________________\n",
      "batch_normalization_11 (Batc (None, 256)               1024      \n",
      "_________________________________________________________________\n",
      "hidden_layer3 (Dense)        (None, 128)               32896     \n",
      "_________________________________________________________________\n",
      "batch_normalization_12 (Batc (None, 128)               512       \n",
      "_________________________________________________________________\n",
      "output (Dense)               (None, 10)                1290      \n",
      "=================================================================\n",
      "Total params: 1,742,474\n",
      "Trainable params: 1,740,682\n",
      "Non-trainable params: 1,792\n",
      "_________________________________________________________________\n",
      "Train on 50000 samples, validate on 10000 samples\n",
      "Epoch 1/50\n",
      "50000/50000 [==============================] - 3s 52us/step - loss: 2.1991 - acc: 0.2744 - val_loss: 2.1338 - val_acc: 0.3193\n",
      "Epoch 2/50\n",
      "50000/50000 [==============================] - 2s 33us/step - loss: 1.7519 - acc: 0.3919 - val_loss: 1.7990 - val_acc: 0.3792\n",
      "Epoch 3/50\n",
      "50000/50000 [==============================] - 2s 33us/step - loss: 1.6242 - acc: 0.4330 - val_loss: 1.6847 - val_acc: 0.4191\n",
      "Epoch 4/50\n",
      "50000/50000 [==============================] - 2s 32us/step - loss: 1.5508 - acc: 0.4582 - val_loss: 1.6526 - val_acc: 0.4215\n",
      "Epoch 5/50\n",
      "50000/50000 [==============================] - 2s 32us/step - loss: 1.4974 - acc: 0.4759 - val_loss: 1.6115 - val_acc: 0.4398\n",
      "Epoch 6/50\n",
      "50000/50000 [==============================] - 2s 32us/step - loss: 1.4518 - acc: 0.4931 - val_loss: 1.5990 - val_acc: 0.4444\n",
      "Epoch 7/50\n",
      "50000/50000 [==============================] - 2s 32us/step - loss: 1.4115 - acc: 0.5085 - val_loss: 1.5465 - val_acc: 0.4580\n",
      "Epoch 8/50\n",
      "50000/50000 [==============================] - 2s 33us/step - loss: 1.3761 - acc: 0.5211 - val_loss: 1.5236 - val_acc: 0.4630\n",
      "Epoch 9/50\n",
      "50000/50000 [==============================] - 2s 33us/step - loss: 1.3437 - acc: 0.5343 - val_loss: 1.5160 - val_acc: 0.4683\n",
      "Epoch 10/50\n",
      "50000/50000 [==============================] - 2s 32us/step - loss: 1.3141 - acc: 0.5440 - val_loss: 1.5074 - val_acc: 0.4720\n",
      "Epoch 11/50\n",
      "50000/50000 [==============================] - 2s 32us/step - loss: 1.2842 - acc: 0.5537 - val_loss: 1.5017 - val_acc: 0.4767\n",
      "Epoch 12/50\n",
      "50000/50000 [==============================] - 2s 32us/step - loss: 1.2565 - acc: 0.5648 - val_loss: 1.4950 - val_acc: 0.4732\n",
      "Epoch 13/50\n",
      "50000/50000 [==============================] - 2s 33us/step - loss: 1.2311 - acc: 0.5736 - val_loss: 1.4752 - val_acc: 0.4823\n",
      "Epoch 14/50\n",
      "50000/50000 [==============================] - 2s 32us/step - loss: 1.2062 - acc: 0.5835 - val_loss: 1.4683 - val_acc: 0.4845\n",
      "Epoch 15/50\n",
      "50000/50000 [==============================] - 2s 33us/step - loss: 1.1813 - acc: 0.5922 - val_loss: 1.4705 - val_acc: 0.4834\n",
      "Epoch 16/50\n",
      "50000/50000 [==============================] - 2s 33us/step - loss: 1.1591 - acc: 0.6012 - val_loss: 1.4703 - val_acc: 0.4905\n",
      "Epoch 17/50\n",
      "50000/50000 [==============================] - 2s 32us/step - loss: 1.1345 - acc: 0.6107 - val_loss: 1.4735 - val_acc: 0.4881\n",
      "Epoch 18/50\n",
      "50000/50000 [==============================] - 2s 33us/step - loss: 1.1125 - acc: 0.6179 - val_loss: 1.4666 - val_acc: 0.4859\n",
      "Epoch 19/50\n",
      "50000/50000 [==============================] - 2s 33us/step - loss: 1.0911 - acc: 0.6266 - val_loss: 1.4594 - val_acc: 0.4893\n",
      "Epoch 20/50\n",
      "50000/50000 [==============================] - 2s 33us/step - loss: 1.0684 - acc: 0.6353 - val_loss: 1.4631 - val_acc: 0.4915\n",
      "Epoch 21/50\n",
      "50000/50000 [==============================] - 2s 32us/step - loss: 1.0483 - acc: 0.6433 - val_loss: 1.4594 - val_acc: 0.4888\n",
      "Epoch 22/50\n",
      "50000/50000 [==============================] - 2s 32us/step - loss: 1.0258 - acc: 0.6526 - val_loss: 1.4601 - val_acc: 0.4940\n",
      "Epoch 23/50\n",
      "50000/50000 [==============================] - 2s 32us/step - loss: 1.0063 - acc: 0.6586 - val_loss: 1.4519 - val_acc: 0.4967\n",
      "Epoch 24/50\n",
      "50000/50000 [==============================] - 2s 32us/step - loss: 0.9837 - acc: 0.6685 - val_loss: 1.4609 - val_acc: 0.4910\n",
      "Epoch 25/50\n",
      "50000/50000 [==============================] - 2s 33us/step - loss: 0.9641 - acc: 0.6774 - val_loss: 1.4657 - val_acc: 0.4982\n",
      "Epoch 26/50\n",
      "50000/50000 [==============================] - 2s 34us/step - loss: 0.9439 - acc: 0.6836 - val_loss: 1.4659 - val_acc: 0.4924\n",
      "Epoch 27/50\n",
      "50000/50000 [==============================] - 2s 33us/step - loss: 0.9237 - acc: 0.6918 - val_loss: 1.4694 - val_acc: 0.4970\n",
      "Epoch 28/50\n",
      "50000/50000 [==============================] - 2s 33us/step - loss: 0.9042 - acc: 0.6990 - val_loss: 1.4820 - val_acc: 0.4984\n",
      "Epoch 29/50\n",
      "50000/50000 [==============================] - 2s 33us/step - loss: 0.8830 - acc: 0.7076 - val_loss: 1.4817 - val_acc: 0.4936\n",
      "Epoch 30/50\n",
      "50000/50000 [==============================] - 2s 33us/step - loss: 0.8641 - acc: 0.7137 - val_loss: 1.4920 - val_acc: 0.4955\n",
      "Epoch 31/50\n",
      "50000/50000 [==============================] - 2s 34us/step - loss: 0.8445 - acc: 0.7224 - val_loss: 1.4954 - val_acc: 0.4924\n",
      "Epoch 32/50\n",
      "50000/50000 [==============================] - 2s 32us/step - loss: 0.8238 - acc: 0.7312 - val_loss: 1.4952 - val_acc: 0.4958\n",
      "Epoch 33/50\n",
      "50000/50000 [==============================] - 2s 33us/step - loss: 0.8038 - acc: 0.7372 - val_loss: 1.4942 - val_acc: 0.4958\n",
      "Epoch 34/50\n",
      "50000/50000 [==============================] - 2s 34us/step - loss: 0.7839 - acc: 0.7469 - val_loss: 1.5094 - val_acc: 0.4988\n",
      "Epoch 35/50\n",
      "50000/50000 [==============================] - 2s 33us/step - loss: 0.7648 - acc: 0.7529 - val_loss: 1.5226 - val_acc: 0.4945\n",
      "Epoch 36/50\n",
      "50000/50000 [==============================] - 2s 34us/step - loss: 0.7456 - acc: 0.7631 - val_loss: 1.5298 - val_acc: 0.4916\n",
      "Epoch 37/50\n",
      "50000/50000 [==============================] - 2s 35us/step - loss: 0.7272 - acc: 0.7680 - val_loss: 1.5385 - val_acc: 0.4979\n",
      "Epoch 38/50\n",
      "50000/50000 [==============================] - 2s 34us/step - loss: 0.7093 - acc: 0.7765 - val_loss: 1.5384 - val_acc: 0.4985\n",
      "Epoch 39/50\n",
      "50000/50000 [==============================] - 2s 33us/step - loss: 0.6917 - acc: 0.7824 - val_loss: 1.5533 - val_acc: 0.4950\n",
      "Epoch 40/50\n",
      "50000/50000 [==============================] - 2s 33us/step - loss: 0.6702 - acc: 0.7917 - val_loss: 1.5695 - val_acc: 0.4944\n",
      "Epoch 41/50\n",
      "50000/50000 [==============================] - 2s 34us/step - loss: 0.6526 - acc: 0.7965 - val_loss: 1.5701 - val_acc: 0.4958\n",
      "Epoch 42/50\n",
      "50000/50000 [==============================] - 2s 33us/step - loss: 0.6362 - acc: 0.8047 - val_loss: 1.5973 - val_acc: 0.4947\n",
      "Epoch 43/50\n",
      "50000/50000 [==============================] - 2s 33us/step - loss: 0.6169 - acc: 0.8129 - val_loss: 1.5967 - val_acc: 0.4940\n",
      "Epoch 44/50\n",
      "50000/50000 [==============================] - 2s 33us/step - loss: 0.5986 - acc: 0.8205 - val_loss: 1.6088 - val_acc: 0.4903\n",
      "Epoch 45/50\n",
      "50000/50000 [==============================] - 2s 35us/step - loss: 0.5811 - acc: 0.8258 - val_loss: 1.6349 - val_acc: 0.4917\n",
      "Epoch 46/50\n",
      "50000/50000 [==============================] - 2s 34us/step - loss: 0.5658 - acc: 0.8321 - val_loss: 1.6424 - val_acc: 0.4933\n",
      "Epoch 47/50\n",
      "50000/50000 [==============================] - 2s 33us/step - loss: 0.5470 - acc: 0.8404 - val_loss: 1.6612 - val_acc: 0.4908\n",
      "Epoch 48/50\n",
      "50000/50000 [==============================] - 2s 33us/step - loss: 0.5309 - acc: 0.8469 - val_loss: 1.6482 - val_acc: 0.4928\n",
      "Epoch 00048: early stopping\n"
     ]
    },
    {
     "data": {
      "image/png": "[encoded data removed]",
      "text/plain": [
       "<Figure size 432x288 with 1 Axes>"
      ]
     },
     "metadata": {
      "needs_background": "light"
     },
     "output_type": "display_data"
    },
    {
     "data": {
      "image/png": "[encoded data removed]",
      "text/plain": [
       "<Figure size 432x288 with 1 Axes>"
      ]
     },
     "metadata": {
      "needs_background": "light"
     },
     "output_type": "display_data"
    }
   ],
   "source": [
    "earlystop = EarlyStopping(monitor=\"val_loss\", patience=25, verbose=1)\n",
    "\n",
    "model = build_mlp(input_shape=x_train.shape[1:])\n",
    "model.summary()\n",
    "optimizer = keras.optimizers.SGD(lr=LEARNING_RATE, nesterov=True, momentum=MOMENTUM)\n",
    "model.compile(loss=\"categorical_crossentropy\", metrics=[\"accuracy\"], optimizer=optimizer)\n",
    "\n",
    "model.fit(x_train, y_train, epochs=EPOCHS, batch_size=BATCH_SIZE, validation_data=(x_test, y_test)\n",
    "          , shuffle=True,callbacks=[earlystop])\n",
    "\n",
    "# Collect results\n",
    "train_loss = model.history.history[\"loss\"]\n",
    "valid_loss = model.history.history[\"val_loss\"]\n",
    "train_acc = model.history.history[\"acc\"]\n",
    "valid_acc = model.history.history[\"val_acc\"]\n",
    "\n",
    "plt.plot(range(len(train_loss)), train_loss, label=\"train loss\")\n",
    "plt.plot(range(len(valid_loss)), valid_loss, label=\"valid loss\")\n",
    "plt.legend()\n",
    "plt.title(\"Loss\")\n",
    "plt.show()\n",
    "\n",
    "plt.plot(range(len(train_acc)), train_acc, label=\"train accuracy\")\n",
    "plt.plot(range(len(valid_acc)), valid_acc, label=\"valid accuracy\")\n",
    "plt.legend()\n",
    "plt.title(\"Accuracy\")\n",
    "plt.show()"
   ]
  },
  {
   "cell_type": "code",
   "execution_count": null,
   "metadata": {},
   "outputs": [],
   "source": []
  }
 ],
 "metadata": {
  "kernelspec": {
   "display_name": "Python 3",
   "language": "python",
   "name": "python3"
  },
  "language_info": {
   "codemirror_mode": {
    "name": "ipython",
    "version": 3
   },
   "file_extension": ".py",
   "mimetype": "text/x-python",
   "name": "python",
   "nbconvert_exporter": "python",
   "pygments_lexer": "ipython3",
   "version": "3.7.3"
  }
 },
 "nbformat": 4,
 "nbformat_minor": 2
}
